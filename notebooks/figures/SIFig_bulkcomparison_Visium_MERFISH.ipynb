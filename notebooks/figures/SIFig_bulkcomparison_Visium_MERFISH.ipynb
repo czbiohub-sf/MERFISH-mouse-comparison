{
 "cells": [
  {
   "cell_type": "markdown",
   "metadata": {},
   "source": [
    "### Figure generation notebook for Visium bulk comparisons with MERFISH\n",
    "\n",
    "**Description**\n",
    "This notebook is to generate SI figures for the comparison of Visium (public datasets) and MERFISH spatial transcriptomics datasets using mouse liver and kidney samples. The idea is to replicate the Figure 3 in the main text (which was done for MERFISH and scRNA-seq) for different spatial transcriptomics technology (Visium, sequencing-based) to see how much correlation we'd expect between spatial transcriptomics technologies and MERFISH.\n",
    "\n",
    "**Resources (Public Visium datasets)**\n",
    "- mouse liver: https://livercellatlas.org/download.php from Spatial proteogenomics paper (link)\n",
    "- mouse kidney: https://www.rebuildingakidney.org/chaise/record/#2/Common:Collection/RID=17-E9J6 (1 dataset, \"sham\" which was used as a Control in https://jasn.asnjournals.org/content/33/2/279 paper.)"
   ]
  },
  {
   "cell_type": "code",
   "execution_count": 21,
   "metadata": {},
   "outputs": [],
   "source": [
    "import os\n",
    "import sys\n",
    "import pandas as pd\n",
    "from matplotlib import pyplot as plt\n",
    "from matplotlib import patches as mpatches\n",
    "import matplotlib as mpl\n",
    "import numpy as np\n",
    "import anndata as ad\n",
    "import scanpy as sc\n",
    "import string\n",
    "import seaborn as sns\n",
    "\n",
    "\n",
    "mpl.rcParams.update(mpl.rcParamsDefault) #Reset rcParams to default\n",
    "colors = plt.rcParams['axes.prop_cycle'].by_key()['color']  # Colors in this style\n",
    "\n",
    "# Plotting style function (run this before plotting the final figure)\n",
    "def set_plotting_style():\n",
    "    plt.style.use('seaborn-paper')\n",
    "    plt.rc('axes', labelsize=12)\n",
    "    plt.rc('axes', titlesize=12)\n",
    "    plt.rc('xtick', labelsize=10)\n",
    "    plt.rc('ytick', labelsize=10)\n",
    "    plt.rc('legend', fontsize=10)\n",
    "    plt.rc('text.latex', preamble=r'\\usepackage{sfmath}')\n",
    "    plt.rc('xtick.major', pad=2)\n",
    "    plt.rc('ytick.major', pad=2)\n",
    "    plt.rc('mathtext', fontset='stixsans', sf='sansserif')\n",
    "    plt.rc('figure', figsize=[10,9])\n",
    "    plt.rc('svg', fonttype='none') \n",
    "\n",
    "# load the sc-utilities\n",
    "sys.path.append(\"/home/yangjoon.kim/single-cell-utilities/spatial/\")\n",
    "import convert_pipeline_outputs_h5ad"
   ]
  },
  {
   "cell_type": "markdown",
   "metadata": {},
   "source": [
    "### Mouse liver\n",
    "\n",
    "Mouse liver Visium datasets. We took the count matrices (cell x gene) from https://livercellatlas.org/download.php\n",
    "\n"
   ]
  },
  {
   "cell_type": "code",
   "execution_count": 464,
   "metadata": {},
   "outputs": [
    {
     "name": "stderr",
     "output_type": "stream",
     "text": [
      "Variable names are not unique. To make them unique, call `.var_names_make_unique`.\n",
      "Variable names are not unique. To make them unique, call `.var_names_make_unique`.\n",
      "Variable names are not unique. To make them unique, call `.var_names_make_unique`.\n",
      "Variable names are not unique. To make them unique, call `.var_names_make_unique`.\n",
      "Variable names are not unique. To make them unique, call `.var_names_make_unique`.\n",
      "Variable names are not unique. To make them unique, call `.var_names_make_unique`.\n",
      "Variable names are not unique. To make them unique, call `.var_names_make_unique`.\n",
      "Variable names are not unique. To make them unique, call `.var_names_make_unique`.\n",
      "Variable names are not unique. To make them unique, call `.var_names_make_unique`.\n",
      "Variable names are not unique. To make them unique, call `.var_names_make_unique`.\n",
      "Variable names are not unique. To make them unique, call `.var_names_make_unique`.\n",
      "Variable names are not unique. To make them unique, call `.var_names_make_unique`.\n"
     ]
    },
    {
     "data": {
      "text/html": [
       "<div>\n",
       "<style scoped>\n",
       "    .dataframe tbody tr th:only-of-type {\n",
       "        vertical-align: middle;\n",
       "    }\n",
       "\n",
       "    .dataframe tbody tr th {\n",
       "        vertical-align: top;\n",
       "    }\n",
       "\n",
       "    .dataframe thead th {\n",
       "        text-align: right;\n",
       "    }\n",
       "</style>\n",
       "<table border=\"1\" class=\"dataframe\">\n",
       "  <thead>\n",
       "    <tr style=\"text-align: right;\">\n",
       "      <th></th>\n",
       "      <th>JBO003</th>\n",
       "      <th>JBO002</th>\n",
       "      <th>JBO004</th>\n",
       "      <th>CAP002</th>\n",
       "      <th>JBO001</th>\n",
       "    </tr>\n",
       "  </thead>\n",
       "  <tbody>\n",
       "    <tr>\n",
       "      <th>Xkr4</th>\n",
       "      <td>0.0</td>\n",
       "      <td>0.0</td>\n",
       "      <td>0.0</td>\n",
       "      <td>0.0</td>\n",
       "      <td>0.0</td>\n",
       "    </tr>\n",
       "    <tr>\n",
       "      <th>Gm1992</th>\n",
       "      <td>0.0</td>\n",
       "      <td>0.0</td>\n",
       "      <td>0.0</td>\n",
       "      <td>0.0</td>\n",
       "      <td>0.0</td>\n",
       "    </tr>\n",
       "    <tr>\n",
       "      <th>Gm37381</th>\n",
       "      <td>0.0</td>\n",
       "      <td>0.0</td>\n",
       "      <td>0.0</td>\n",
       "      <td>0.0</td>\n",
       "      <td>0.0</td>\n",
       "    </tr>\n",
       "    <tr>\n",
       "      <th>Rp1</th>\n",
       "      <td>0.0</td>\n",
       "      <td>0.0</td>\n",
       "      <td>0.0</td>\n",
       "      <td>0.0</td>\n",
       "      <td>0.0</td>\n",
       "    </tr>\n",
       "    <tr>\n",
       "      <th>Sox17</th>\n",
       "      <td>71.0</td>\n",
       "      <td>79.0</td>\n",
       "      <td>113.0</td>\n",
       "      <td>30.0</td>\n",
       "      <td>62.0</td>\n",
       "    </tr>\n",
       "    <tr>\n",
       "      <th>...</th>\n",
       "      <td>...</td>\n",
       "      <td>...</td>\n",
       "      <td>...</td>\n",
       "      <td>...</td>\n",
       "      <td>...</td>\n",
       "    </tr>\n",
       "    <tr>\n",
       "      <th>AC168977.1</th>\n",
       "      <td>0.0</td>\n",
       "      <td>0.0</td>\n",
       "      <td>0.0</td>\n",
       "      <td>0.0</td>\n",
       "      <td>0.0</td>\n",
       "    </tr>\n",
       "    <tr>\n",
       "      <th>AC149090.1</th>\n",
       "      <td>1889.0</td>\n",
       "      <td>4009.0</td>\n",
       "      <td>3527.0</td>\n",
       "      <td>785.0</td>\n",
       "      <td>3679.0</td>\n",
       "    </tr>\n",
       "    <tr>\n",
       "      <th>CAAA01118383.1</th>\n",
       "      <td>1127.0</td>\n",
       "      <td>1192.0</td>\n",
       "      <td>1722.0</td>\n",
       "      <td>289.0</td>\n",
       "      <td>1317.0</td>\n",
       "    </tr>\n",
       "    <tr>\n",
       "      <th>Vmn2r122</th>\n",
       "      <td>0.0</td>\n",
       "      <td>0.0</td>\n",
       "      <td>0.0</td>\n",
       "      <td>0.0</td>\n",
       "      <td>0.0</td>\n",
       "    </tr>\n",
       "    <tr>\n",
       "      <th>CAAA01147332.1</th>\n",
       "      <td>19.0</td>\n",
       "      <td>10.0</td>\n",
       "      <td>45.0</td>\n",
       "      <td>6.0</td>\n",
       "      <td>30.0</td>\n",
       "    </tr>\n",
       "  </tbody>\n",
       "</table>\n",
       "<p>31053 rows × 5 columns</p>\n",
       "</div>"
      ],
      "text/plain": [
       "                JBO003  JBO002  JBO004  CAP002  JBO001\n",
       "Xkr4               0.0     0.0     0.0     0.0     0.0\n",
       "Gm1992             0.0     0.0     0.0     0.0     0.0\n",
       "Gm37381            0.0     0.0     0.0     0.0     0.0\n",
       "Rp1                0.0     0.0     0.0     0.0     0.0\n",
       "Sox17             71.0    79.0   113.0    30.0    62.0\n",
       "...                ...     ...     ...     ...     ...\n",
       "AC168977.1         0.0     0.0     0.0     0.0     0.0\n",
       "AC149090.1      1889.0  4009.0  3527.0   785.0  3679.0\n",
       "CAAA01118383.1  1127.0  1192.0  1722.0   289.0  1317.0\n",
       "Vmn2r122           0.0     0.0     0.0     0.0     0.0\n",
       "CAAA01147332.1    19.0    10.0    45.0     6.0    30.0\n",
       "\n",
       "[31053 rows x 5 columns]"
      ]
     },
     "execution_count": 464,
     "metadata": {},
     "output_type": "execute_result"
    }
   ],
   "source": [
    "# Load the public visium datasets \n",
    "# mouse liver (total of 5 datasets)\n",
    "visium_liver_path = \"/mnt/ibm_lg/spatial-seq/vizgen-MACA-comparison-paper/data/Visium_public/liver/individual_visium_samples/\"\n",
    "\n",
    "files = os.listdir(visium_liver_path)\n",
    "\n",
    "# visium_liver=sc.AnnData()\n",
    "# first anndata\n",
    "visium_liver=sc.read_10x_h5(visium_liver_path+files[0])\n",
    "visium_liver.obs[\"sample\"] = \"JBO003\"\n",
    "\n",
    "\n",
    "# define a dataframe to save the result (pseudo-bulk counts per gene)\n",
    "pseudo_bulk_counts_perGene = pd.DataFrame()\n",
    "\n",
    "for sample in files:\n",
    "    adata_temp =  sc.read_10x_h5(visium_liver_path+sample)\n",
    "    sample_id = sample.split(\".\")[0][-6:]\n",
    "    df_temp = pd.DataFrame(adata_temp.X.todense(),\n",
    "                           columns=adata_temp.var_names)\n",
    "    # compute the pseudo-bulk counts per gene (across ALL Spots)\n",
    "    pseudo_bulk_counts_perGene.loc[:,sample_id] = np.sum(df_temp,0)\n",
    "\n",
    "pseudo_bulk_counts_perGene\n"
   ]
  },
  {
   "cell_type": "markdown",
   "metadata": {},
   "source": [
    "### Compute the pseudo-bulk transcript counts for all genes per sample\n"
   ]
  },
  {
   "cell_type": "code",
   "execution_count": 465,
   "metadata": {},
   "outputs": [
    {
     "data": {
      "text/plain": [
       "Index(['Xkr4', 'Gm1992', 'Gm37381', 'Rp1', 'Sox17', 'Gm37323', 'Mrpl15',\n",
       "       'Lypla1', 'Gm37988', 'Tcea1',\n",
       "       ...\n",
       "       'AC125149.1', 'AC125149.2', 'AC125149.4', 'AC234645.1', 'AC168977.2',\n",
       "       'AC168977.1', 'AC149090.1', 'CAAA01118383.1', 'Vmn2r122',\n",
       "       'CAAA01147332.1'],\n",
       "      dtype='object', length=31053)"
      ]
     },
     "execution_count": 465,
     "metadata": {},
     "output_type": "execute_result"
    }
   ],
   "source": [
    "# we need to get a subset of genes that are present in both this Visium dataset and the MACA dataset\n",
    "pseudo_bulk_counts_perGene.index"
   ]
  },
  {
   "cell_type": "code",
   "execution_count": 466,
   "metadata": {
    "scrolled": true
   },
   "outputs": [
    {
     "data": {
      "text/plain": [
       "Xkr4                 0.000000\n",
       "Gm1992               0.000000\n",
       "Gm37381              0.000000\n",
       "Rp1                  0.000000\n",
       "Sox17               71.000000\n",
       "                     ...     \n",
       "AC168977.1           0.000000\n",
       "AC149090.1        2777.800049\n",
       "CAAA01118383.1    1129.400024\n",
       "Vmn2r122             0.000000\n",
       "CAAA01147332.1      22.000000\n",
       "Length: 31053, dtype: float32"
      ]
     },
     "execution_count": 466,
     "metadata": {},
     "output_type": "execute_result"
    }
   ],
   "source": [
    "pseudo_bulk_counts_perGene_liver = np.mean(pseudo_bulk_counts_perGene,1)\n",
    "pseudo_bulk_counts_perGene_liver"
   ]
  },
  {
   "cell_type": "markdown",
   "metadata": {},
   "source": [
    "### Mouse kidney"
   ]
  },
  {
   "cell_type": "code",
   "execution_count": 25,
   "metadata": {
    "scrolled": true
   },
   "outputs": [
    {
     "name": "stderr",
     "output_type": "stream",
     "text": [
      "Variable names are not unique. To make them unique, call `.var_names_make_unique`.\n",
      "Variable names are not unique. To make them unique, call `.var_names_make_unique`.\n",
      "/home/yangjoon.kim/miniconda3/lib/python3.9/site-packages/anndata/_core/anndata.py:1228: FutureWarning: The `inplace` parameter in pandas.Categorical.reorder_categories is deprecated and will be removed in a future version. Reordering categories will always return a new Categorical object.\n",
      "  c.reorder_categories(natsorted(c.categories), inplace=True)\n",
      "... storing 'feature_types' as categorical\n",
      "/home/yangjoon.kim/miniconda3/lib/python3.9/site-packages/anndata/_core/anndata.py:1228: FutureWarning: The `inplace` parameter in pandas.Categorical.reorder_categories is deprecated and will be removed in a future version. Reordering categories will always return a new Categorical object.\n",
      "  c.reorder_categories(natsorted(c.categories), inplace=True)\n",
      "... storing 'genome' as categorical\n"
     ]
    }
   ],
   "source": [
    "# mouse kidney (8-10 weeks old)\n",
    "visium_kidney_path = \"/mnt/ibm_lg/spatial-seq/vizgen-MACA-comparison-paper/data/Visium_public/kidney/fsham_137_processed/outs/\"\n",
    "output_dir = \"/mnt/ibm_lg/spatial-seq/vizgen-MACA-comparison-paper/data/Visium_public/kidney/\"\n",
    "visium_kidney =  convert_pipeline_outputs_h5ad.convert_visium_output_to_h5ad(visium_kidney_path, output_dir, option=False)\n"
   ]
  },
  {
   "cell_type": "code",
   "execution_count": 26,
   "metadata": {},
   "outputs": [
    {
     "data": {
      "text/plain": [
       "AnnData object with n_obs × n_vars = 1617 × 32285\n",
       "    obs: 'in_tissue', 'array_row', 'array_col'\n",
       "    var: 'gene_ids', 'feature_types', 'genome'\n",
       "    uns: 'spatial'\n",
       "    obsm: 'spatial', 'X_spatial'"
      ]
     },
     "execution_count": 26,
     "metadata": {},
     "output_type": "execute_result"
    }
   ],
   "source": [
    "visium_kidney"
   ]
  },
  {
   "cell_type": "code",
   "execution_count": 51,
   "metadata": {},
   "outputs": [
    {
     "data": {
      "text/plain": [
       "array([[6710, 7863],\n",
       "       [5706, 2806],\n",
       "       [6907, 3753],\n",
       "       ...,\n",
       "       [3587, 5292],\n",
       "       [4429, 6174],\n",
       "       [6063, 2734]])"
      ]
     },
     "execution_count": 51,
     "metadata": {},
     "output_type": "execute_result"
    }
   ],
   "source": [
    "visium_kidney.obsm[\"spatial\"]"
   ]
  },
  {
   "cell_type": "code",
   "execution_count": 27,
   "metadata": {
    "scrolled": true
   },
   "outputs": [
    {
     "data": {
      "image/png": "[encoded data removed]",
      "text/plain": [
       "<Figure size 432x288 with 2 Axes>"
      ]
     },
     "metadata": {
      "needs_background": "light"
     },
     "output_type": "display_data"
    }
   ],
   "source": [
    "sc.pl.spatial(visium_kidney, color=\"in_tissue\")"
   ]
  },
  {
   "cell_type": "code",
   "execution_count": 67,
   "metadata": {},
   "outputs": [
    {
     "data": {
      "text/plain": [
       "matrix([[ 5855.],\n",
       "        [ 6619.],\n",
       "        [ 3675.],\n",
       "        ...,\n",
       "        [ 6011.],\n",
       "        [13049.],\n",
       "        [ 3692.]], dtype=float32)"
      ]
     },
     "execution_count": 67,
     "metadata": {},
     "output_type": "execute_result"
    }
   ],
   "source": [
    "# check if the adata.X is raw counts\n",
    "np.sum(visium_kidney.X.todense(),1)"
   ]
  },
  {
   "cell_type": "code",
   "execution_count": 170,
   "metadata": {
    "scrolled": true
   },
   "outputs": [
    {
     "data": {
      "text/plain": [
       "Xkr4            0.0\n",
       "Gm1992          0.0\n",
       "Gm19938         0.0\n",
       "Gm37381         0.0\n",
       "Rp1             1.0\n",
       "              ...  \n",
       "AC124606.1      0.0\n",
       "AC133095.2      0.0\n",
       "AC133095.1      0.0\n",
       "AC234645.1      0.0\n",
       "AC149090.1    631.0\n",
       "Length: 32285, dtype: float32"
      ]
     },
     "execution_count": 170,
     "metadata": {},
     "output_type": "execute_result"
    }
   ],
   "source": [
    "df_counts = pd.DataFrame(visium_kidney.X.todense(),\n",
    "                         columns = visium_kidney.var_names)\n",
    "df_counts\n",
    "\n",
    "pseudo_bulk_counts_perGene_kidney = np.sum(df_counts)\n",
    "pseudo_bulk_counts_perGene_kidney\n"
   ]
  },
  {
   "cell_type": "code",
   "execution_count": 182,
   "metadata": {},
   "outputs": [
    {
     "data": {
      "text/plain": [
       "Rp1                  1.0\n",
       "Sox17              129.0\n",
       "Gm37587              1.0\n",
       "Mrpl15             725.0\n",
       "Lypla1            2188.0\n",
       "                   ...  \n",
       "Vamp7              252.0\n",
       "Spry3                4.0\n",
       "Tmlhe               32.0\n",
       "CAAA01147332.1       1.0\n",
       "AC149090.1         631.0\n",
       "Length: 17686, dtype: float32"
      ]
     },
     "execution_count": 182,
     "metadata": {},
     "output_type": "execute_result"
    }
   ],
   "source": [
    "# just out of curiosity, compute the number of genes which have at least one count across all cells\n",
    "pseudo_bulk_counts_perGene_kidney[pseudo_bulk_counts_perGene_kidney!=0]"
   ]
  },
  {
   "cell_type": "markdown",
   "metadata": {},
   "source": [
    "## Load the MACA datasets as well as Vizgen datasets"
   ]
  },
  {
   "cell_type": "code",
   "execution_count": 264,
   "metadata": {},
   "outputs": [
    {
     "name": "stdout",
     "output_type": "stream",
     "text": [
      "Bulk RNA counts loaded.\n",
      "MACA results loaded.\n"
     ]
    }
   ],
   "source": [
    "# Load data\n",
    "dataPath = '/mnt/ibm_lg/spatial-seq/MERlin_Analysis/ProcessedResults/BulkCounts'\n",
    "\n",
    "experimentNames = ['Msliver_VZG116_021121',\n",
    "                   'Msliver_VZG116_021221',\n",
    "                   'Msliver_VZG116_021621',\n",
    "                   'Msliver_VZG116_021721',\n",
    "                   'MsLiver_Cellbound_VZG116_V1_JH_09-18-2021',\n",
    "                   'MsKidney_CellBoundary_VZG116_111921',\n",
    "                   'MsKidney_CellBoundary_VZG116_121021']\n",
    "bulkCounts = []\n",
    "\n",
    "for i in range(len(experimentNames)):\n",
    "    bulkCounts.append(pd.read_csv(os.path.join(\n",
    "    dataPath, experimentNames[i] + '_BulkRNACounts.csv')))\n",
    "\n",
    "print('Bulk RNA counts loaded.')\n",
    "\n",
    "# MACA data\n",
    "MACA = pd.read_csv('/mnt/ibm_lg/spatial-seq/vizgen-MACA-comparison-paper/data/TabulaMurisSenis/190214_A00111_0269_AHH3J3DSXX__190214_A00111_0270_BHHMFWDSXX.csv',\n",
    "                  index_col=0)\n",
    "MACA_meta = pd.read_csv('/mnt/ibm_lg/spatial-seq/vizgen-MACA-comparison-paper/data/TabulaMurisSenis/MACA_Bulk_metadata.csv')\n",
    "\n",
    "# Use only mice that are 18 months or younger\n",
    "#ages = ['6','3','18','1','12','9','15']\n",
    "ages = ['3'] # Use only 3 month old mice\n",
    "ind = MACA_meta['characteristics: age'].isin(ages)\n",
    "samplesToKeep = MACA_meta['Sample name'][ind]\n",
    "samplesToKeep = [s + '.gencode.vM19' for s in samplesToKeep] # Append the suffix to get the sample names consistent\n",
    "\n",
    "MACA = MACA.loc[:, samplesToKeep]\n",
    "MACA_meta = MACA_meta.loc[ind]\n",
    "print('MACA results loaded.')"
   ]
  },
  {
   "cell_type": "markdown",
   "metadata": {},
   "source": [
    "### extra Panel : correlation between Visium and MACA bulk RNA-seq (mouse liver)"
   ]
  },
  {
   "cell_type": "code",
   "execution_count": 467,
   "metadata": {
    "scrolled": true
   },
   "outputs": [
    {
     "data": {
      "text/plain": [
       "xkr4                 0.000000\n",
       "gm1992               0.000000\n",
       "gm37381              0.000000\n",
       "rp1                  0.000000\n",
       "sox17               71.000000\n",
       "                     ...     \n",
       "ac168977.1           0.000000\n",
       "ac149090.1        2777.800049\n",
       "caaa01118383.1    1129.400024\n",
       "vmn2r122             0.000000\n",
       "caaa01147332.1      22.000000\n",
       "Length: 31053, dtype: float32"
      ]
     },
     "execution_count": 467,
     "metadata": {},
     "output_type": "execute_result"
    }
   ],
   "source": [
    "pseudo_bulk_counts_perGene_liver.index = pseudo_bulk_counts_perGene_liver.index.str.lower()\n",
    "pseudo_bulk_counts_perGene_liver"
   ]
  },
  {
   "cell_type": "code",
   "execution_count": 468,
   "metadata": {},
   "outputs": [],
   "source": [
    "#MACA plates that are liver tissue\n",
    "liver_plates = MACA_meta['Sample name'].copy()[MACA_meta['source name'].str.contains('Liver')] #Plates containing liver experiments\n",
    "liver_plate_strings = liver_plates.to_list() #Convert to list of strings\n",
    "liver_plate_strings = [s + '.gencode.vM19' for s in liver_plate_strings] #Append to every string to make compatible\n",
    "\n",
    "#Get gene counts from MACA experiments that are liver tissue (reset gene column from index)\n",
    "MACA_liver = MACA.copy()[liver_plate_strings].reset_index()\n",
    "\n",
    "#Get the subset of MACA that intersect with Vizgen genes\n",
    "\n",
    "#First, make gene list lower case\n",
    "MACA_liver['gene'] = MACA_liver['gene'].str.lower()\n",
    "\n",
    "#Calculate the average across all bulk RNA_seq experiments\n",
    "MACA_liver['average'] = MACA_liver.mean(axis=1,skipna=True,numeric_only=True)"
   ]
  },
  {
   "cell_type": "code",
   "execution_count": 469,
   "metadata": {},
   "outputs": [
    {
     "data": {
      "text/plain": [
       "xkr4                 0.000000\n",
       "gm1992               0.000000\n",
       "gm37381              0.000000\n",
       "rp1                  0.000000\n",
       "sox17               71.000000\n",
       "                     ...     \n",
       "ac168977.1           0.000000\n",
       "ac149090.1        2777.800049\n",
       "caaa01118383.1    1129.400024\n",
       "vmn2r122             0.000000\n",
       "caaa01147332.1      22.000000\n",
       "Length: 31053, dtype: float32"
      ]
     },
     "execution_count": 469,
     "metadata": {},
     "output_type": "execute_result"
    }
   ],
   "source": [
    "pseudo_bulk_counts_perGene_liver"
   ]
  },
  {
   "cell_type": "code",
   "execution_count": 470,
   "metadata": {},
   "outputs": [
    {
     "data": {
      "image/png": "[encoded data removed]",
      "text/plain": [
       "<Figure size 720x648 with 1 Axes>"
      ]
     },
     "metadata": {
      "needs_background": "light"
     },
     "output_type": "display_data"
    }
   ],
   "source": [
    "# Format data to be compared\n",
    "#List of genes to be examined\n",
    "# genes = VizgenCountsLiver[0]['gene'].copy()\n",
    "# gene_list = genes.to_list() #Get gene list\n",
    "\n",
    "# gene_list = [x.lower() for x in gene_list] #Convert to lower case\n",
    "\n",
    "#MACA plates that are liver tissue\n",
    "liver_plates = MACA_meta['Sample name'].copy()[MACA_meta['source name'].str.contains('Liver')] #Plates containing liver experiments\n",
    "liver_plate_strings = liver_plates.to_list() #Convert to list of strings\n",
    "liver_plate_strings = [s + '.gencode.vM19' for s in liver_plate_strings] #Append to every string to make compatible\n",
    "\n",
    "#Get gene counts from MACA experiments that are liver tissue (reset gene column from index)\n",
    "MACA_liver = MACA.copy()[liver_plate_strings].reset_index()\n",
    "\n",
    "#Get the subset of MACA that intersect with Vizgen genes\n",
    "\n",
    "#First, make gene list lower case\n",
    "MACA_liver['gene'] = MACA_liver['gene'].str.lower()\n",
    "\n",
    "#Calculate the average across all bulk RNA_seq experiments\n",
    "MACA_liver['average'] = MACA_liver.mean(axis=1,skipna=True,numeric_only=True)\n",
    "\n",
    "MACA_counts_perGene_liver = MACA_liver.mean(axis=1,skipna=True,numeric_only=True)\n",
    "\n",
    "#Calculate average across Vizgen replicates\n",
    "# VizgenLiver = pd.DataFrame(data=np.transpose([VizgenCountsLiver[i]['count'] \n",
    "#                                           for i in range(len(VizgenCountsLiver))]),\n",
    "#                                          columns=[experimentNames[x] for x in liver_ind])\n",
    "# VizgenLiver['average'] = VizgenLiver.mean(axis=1)\n",
    "# VizgenLiver['gene'] = VizgenCountsLiver[0]['gene'].str.lower()\n",
    "\n",
    "# Calculate the average across Visium experiments \n",
    "pseudo_bulk_counts_perGene_liver\n",
    "\n",
    "# make the gene names as lower case\n",
    "pseudo_bulk_counts_perGene_liver.index = pseudo_bulk_counts_perGene_liver.index.str.lower()\n",
    "pseudo_bulk_counts_perGene_liver\n",
    "\n",
    "df_visium_liver = pd.DataFrame(pseudo_bulk_counts_perGene_liver)\n",
    "df_visium_liver = df_visium_liver.rename(columns={0:\"average\"})\n",
    "df_visium_liver[\"gene\"] = df_visium_liver.index\n",
    "df_visium_liver\n",
    "\n",
    "# Rename Vizgen genes that are inconsistent with MACA\n",
    "# faim3 - fcmr (y)\n",
    "# mir205hg - 4631405K08Rik (y)\n",
    "# tmem27 - Cltrn (y)\n",
    "# gpr116 - Adgrf5 (y)\n",
    "# emr1 - Adgre1 (y)\n",
    "# cybasc3 - Cyb561a3 (y)\n",
    "# ptrf - Cavin1 (y)\n",
    "# fam159b - Shisal2b (y)\n",
    "# 1700011H14RIK - ccdc198 (y)\n",
    "# rename_map = {'faim3':'fcmr',\n",
    "#               'mir205hg':'4631405k08rik',\n",
    "#              'tmem27':'cltrn',\n",
    "#              'gpr116':'adgrf5',\n",
    "#              'emr1':'adgre1',\n",
    "#              'cybasc3':'cyb561a3',\n",
    "#              'ptrf':'cavin1',\n",
    "#              'fam159b':'shisal2b',\n",
    "#              '1700011h14rik':'ccdc198'}\n",
    "# for i in range(VizgenLiver.shape[0]):\n",
    "#     if VizgenLiver.loc[i,'gene'] in rename_map.keys():\n",
    "#         VizgenLiver.loc[i,'gene'] = rename_map[VizgenLiver.loc[i,'gene']]\n",
    "\n",
    "# Get the intersection_liver with common genes\n",
    "intersection_liver = df_visium_liver[['average','gene']].merge(MACA_liver[['average','gene']],\n",
    "                                                           on='gene')\n",
    "intersection_liver = intersection_liver.rename(columns={'average_x':'Visium_avg', 'average_y':'MACA_avg'})\n",
    "\n",
    "\n",
    "# Plot results\n",
    "\n",
    "# Correlation coefficient\n",
    "R2_compare_liver = np.corrcoef(intersection_liver['Visium_avg'], intersection_liver['MACA_avg'])\n",
    "R2_compare_liver = R2_compare_liver[1,0]\n",
    "\n",
    "# Scatter plot of averages\n",
    "plt.figure()\n",
    "plt.scatter(intersection_liver['Visium_avg'], intersection_liver['MACA_avg'])\n",
    "plt.xscale('log')\n",
    "plt.yscale('log')\n",
    "plt.xlabel('log count Visium')\n",
    "plt.ylabel('log count MACA')\n",
    "plt.title('Detected transcript abundance between Visium and MACA bulk RNA-seq (liver) \\n R^2 = ' \n",
    "          + str(round(R2_compare_liver,2)))\n",
    "\n",
    "plt.show()"
   ]
  },
  {
   "cell_type": "code",
   "execution_count": 473,
   "metadata": {},
   "outputs": [
    {
     "data": {
      "text/html": [
       "<div>\n",
       "<style scoped>\n",
       "    .dataframe tbody tr th:only-of-type {\n",
       "        vertical-align: middle;\n",
       "    }\n",
       "\n",
       "    .dataframe tbody tr th {\n",
       "        vertical-align: top;\n",
       "    }\n",
       "\n",
       "    .dataframe thead th {\n",
       "        text-align: right;\n",
       "    }\n",
       "</style>\n",
       "<table border=\"1\" class=\"dataframe\">\n",
       "  <thead>\n",
       "    <tr style=\"text-align: right;\">\n",
       "      <th></th>\n",
       "      <th>Visium_avg</th>\n",
       "      <th>gene</th>\n",
       "      <th>MACA_avg</th>\n",
       "    </tr>\n",
       "  </thead>\n",
       "  <tbody>\n",
       "    <tr>\n",
       "      <th>0</th>\n",
       "      <td>0.000000</td>\n",
       "      <td>xkr4</td>\n",
       "      <td>4.833333</td>\n",
       "    </tr>\n",
       "    <tr>\n",
       "      <th>1</th>\n",
       "      <td>0.000000</td>\n",
       "      <td>gm1992</td>\n",
       "      <td>0.000000</td>\n",
       "    </tr>\n",
       "    <tr>\n",
       "      <th>2</th>\n",
       "      <td>0.000000</td>\n",
       "      <td>gm37381</td>\n",
       "      <td>2.000000</td>\n",
       "    </tr>\n",
       "    <tr>\n",
       "      <th>3</th>\n",
       "      <td>0.000000</td>\n",
       "      <td>rp1</td>\n",
       "      <td>15.166667</td>\n",
       "    </tr>\n",
       "    <tr>\n",
       "      <th>4</th>\n",
       "      <td>71.000000</td>\n",
       "      <td>sox17</td>\n",
       "      <td>27.666667</td>\n",
       "    </tr>\n",
       "    <tr>\n",
       "      <th>...</th>\n",
       "      <td>...</td>\n",
       "      <td>...</td>\n",
       "      <td>...</td>\n",
       "    </tr>\n",
       "    <tr>\n",
       "      <th>30713</th>\n",
       "      <td>558.799988</td>\n",
       "      <td>mt-nd4l</td>\n",
       "      <td>3.333333</td>\n",
       "    </tr>\n",
       "    <tr>\n",
       "      <th>30714</th>\n",
       "      <td>38238.000000</td>\n",
       "      <td>mt-nd4</td>\n",
       "      <td>17350.000000</td>\n",
       "    </tr>\n",
       "    <tr>\n",
       "      <th>30715</th>\n",
       "      <td>2432.399902</td>\n",
       "      <td>mt-nd5</td>\n",
       "      <td>13896.166667</td>\n",
       "    </tr>\n",
       "    <tr>\n",
       "      <th>30716</th>\n",
       "      <td>9.400000</td>\n",
       "      <td>mt-nd6</td>\n",
       "      <td>513.666667</td>\n",
       "    </tr>\n",
       "    <tr>\n",
       "      <th>30717</th>\n",
       "      <td>98305.000000</td>\n",
       "      <td>mt-cytb</td>\n",
       "      <td>60381.833333</td>\n",
       "    </tr>\n",
       "  </tbody>\n",
       "</table>\n",
       "<p>30718 rows × 3 columns</p>\n",
       "</div>"
      ],
      "text/plain": [
       "         Visium_avg     gene      MACA_avg\n",
       "0          0.000000     xkr4      4.833333\n",
       "1          0.000000   gm1992      0.000000\n",
       "2          0.000000  gm37381      2.000000\n",
       "3          0.000000      rp1     15.166667\n",
       "4         71.000000    sox17     27.666667\n",
       "...             ...      ...           ...\n",
       "30713    558.799988  mt-nd4l      3.333333\n",
       "30714  38238.000000   mt-nd4  17350.000000\n",
       "30715   2432.399902   mt-nd5  13896.166667\n",
       "30716      9.400000   mt-nd6    513.666667\n",
       "30717  98305.000000  mt-cytb  60381.833333\n",
       "\n",
       "[30718 rows x 3 columns]"
      ]
     },
     "execution_count": 473,
     "metadata": {},
     "output_type": "execute_result"
    }
   ],
   "source": [
    "intersection_liver.set_index = \"gene\"\n",
    "intersection_liver"
   ]
  },
  {
   "cell_type": "markdown",
   "metadata": {},
   "source": [
    "### extra Panel : correlation between Visium and MACA bulk RNA-seq (mouse kidney)"
   ]
  },
  {
   "cell_type": "code",
   "execution_count": 243,
   "metadata": {},
   "outputs": [
    {
     "data": {
      "image/png": "[encoded data removed]",
      "text/plain": [
       "<Figure size 432x288 with 1 Axes>"
      ]
     },
     "metadata": {
      "needs_background": "light"
     },
     "output_type": "display_data"
    }
   ],
   "source": [
    "# Format data to be compared\n",
    "#List of genes to be examined\n",
    "# genes = VizgenCountsKidney[0]['gene'].copy()\n",
    "# gene_list = genes.to_list() #Get gene list\n",
    "# gene_list = [x.lower() for x in gene_list] #Convert to lower case\n",
    "\n",
    "#MACA plates that are kidney tissue\n",
    "kidney_plates = MACA_meta['Sample name'].copy()[MACA_meta['source name'].str.contains('Kidney')] #Plates containing kidney experiments\n",
    "kidney_plate_strings = kidney_plates.to_list() #Convert to list of strings\n",
    "kidney_plate_strings = [s + '.gencode.vM19' for s in kidney_plate_strings] #Append to every string to make compatible\n",
    "\n",
    "#Get gene counts from MACA experiments that are kidney tissue (reset gene column from index)\n",
    "MACA_kidney = MACA.copy()[kidney_plate_strings].reset_index()\n",
    "\n",
    "#Get the subset of MACA that intersect with Vizgen genes\n",
    "#First, make gene list lower case\n",
    "MACA_kidney['gene'] = MACA_kidney['gene'].str.lower()\n",
    "\n",
    "#Calculate the average across all bulk RNA_seq experiments\n",
    "MACA_kidney['average'] = MACA_kidney.mean(axis=1,skipna=True,numeric_only=True)\n",
    "\n",
    "#Calculate average across Vizgen replicates\n",
    "\n",
    "#VizgenKidney = pd.DataFrame(data=np.transpose([VizgenCountsKidney[i]['count'] \n",
    "#                                          for i in range(len(VizgenCountsKidney))]),\n",
    "#                                         columns=[experimentNames[x] for x in kidney_ind])\n",
    "#VizgenKidney['average'] = VizgenKidney.mean(axis=1)\n",
    "#VizgenKidney['gene'] = VizgenCountsKidney[0]['gene'].str.lower()\n",
    "\n",
    "# Rename Vizgen genes that are inconsistent with MACA\n",
    "# for i in range(VizgenKidney.shape[0]):\n",
    "#     if VizgenKidney.loc[i,'gene'] in rename_map.keys():\n",
    "#         VizgenKidney.loc[i,'gene'] = rename_map[VizgenKidney.loc[i,'gene']]\n",
    "\n",
    "\n",
    "# Calculate the average across Visium experiments \n",
    "pseudo_bulk_counts_perGene_kidney\n",
    "\n",
    "# make the gene names as lower case\n",
    "pseudo_bulk_counts_perGene_kidney.index = pseudo_bulk_counts_perGene_kidney.index.str.lower()\n",
    "pseudo_bulk_counts_perGene_kidney\n",
    "\n",
    "df_visium_kidney = pd.DataFrame(pseudo_bulk_counts_perGene_kidney)\n",
    "df_visium_kidney = df_visium_kidney.rename(columns={0:\"average\"})\n",
    "df_visium_kidney[\"gene\"] = df_visium_kidney.index\n",
    "df_visium_kidney\n",
    "\n",
    "\n",
    "\n",
    "# Get the intersection_kidney with common genes\n",
    "intersection_kidney = df_visium_kidney[['average','gene']].merge(MACA_kidney[['average','gene']],\n",
    "                                                           on='gene')\n",
    "intersection_kidney = intersection_kidney.rename(columns={'average_x':'Visium_avg', 'average_y':'MACA_avg'})\n",
    "\n",
    "\n",
    "# Plot results\n",
    "\n",
    "# Correlation coefficient\n",
    "R2_compare_kidney = np.corrcoef(intersection_kidney['Visium_avg'], intersection_kidney['MACA_avg'])\n",
    "R2_compare_kidney = R2_compare_kidney[1,0]\n",
    "\n",
    "# Scatter plot of averages\n",
    "plt.figure()\n",
    "plt.scatter(intersection_kidney['Visium_avg'], intersection_kidney['MACA_avg'])\n",
    "plt.xscale('log')\n",
    "plt.yscale('log')\n",
    "plt.xlabel('log count Vizgen')\n",
    "plt.ylabel('log count MACA')\n",
    "plt.title('Detected transcript abundance between Visium and MACA bulk RNA-seq (kidney) \\n R^2 = ' \n",
    "          + str(round(R2_compare_kidney,2)))\n",
    "\n",
    "plt.show()"
   ]
  },
  {
   "cell_type": "markdown",
   "metadata": {},
   "source": [
    "### Panel C: correlation between Visium and MERFISH (Vizgen) - Mouse liver\n"
   ]
  },
  {
   "cell_type": "code",
   "execution_count": 493,
   "metadata": {},
   "outputs": [
    {
     "data": {
      "text/plain": [
       "31053"
      ]
     },
     "execution_count": 493,
     "metadata": {},
     "output_type": "execute_result"
    }
   ],
   "source": [
    "df_visium_liver[\"gene\"].shape[0]"
   ]
  },
  {
   "cell_type": "code",
   "execution_count": 507,
   "metadata": {},
   "outputs": [
    {
     "data": {
      "text/plain": [
       "[         gene    count  log count\n",
       " 0       PTPRC   1774.0   3.249198\n",
       " 1      PECAM1   1403.0   3.147367\n",
       " 2         KDR    307.0   2.488551\n",
       " 3        CDH5    748.0   2.874482\n",
       " 4        CD19  12327.0   4.090893\n",
       " ..        ...      ...        ...\n",
       " 302       LUM    108.0   2.037426\n",
       " 303  SERPINF1  19371.0   4.287174\n",
       " 304  CRISPLD2   2354.0   3.371991\n",
       " 305     HTRA3   1589.0   3.201397\n",
       " 306     AEBP1   2485.0   3.395501\n",
       " \n",
       " [307 rows x 3 columns],\n",
       "          gene    count  log count\n",
       " 0       PTPRC   1472.0   3.168203\n",
       " 1      PECAM1   2475.0   3.393751\n",
       " 2         KDR    973.0   2.988559\n",
       " 3        CDH5   1881.0   3.274620\n",
       " 4        CD19  14197.0   4.152227\n",
       " ..        ...      ...        ...\n",
       " 302       LUM    256.0   2.409933\n",
       " 303  SERPINF1  39894.0   4.600918\n",
       " 304  CRISPLD2   2708.0   3.432809\n",
       " 305     HTRA3   2007.0   3.302764\n",
       " 306     AEBP1   4143.0   3.617420\n",
       " \n",
       " [307 rows x 3 columns],\n",
       "          gene    count  log count\n",
       " 0       PTPRC    801.0   2.904174\n",
       " 1      PECAM1   1335.0   3.125806\n",
       " 2         KDR    736.0   2.867467\n",
       " 3        CDH5   1317.0   3.119915\n",
       " 4        CD19  11762.0   4.070518\n",
       " ..        ...      ...        ...\n",
       " 302       LUM    174.0   2.243038\n",
       " 303  SERPINF1  18105.0   4.257823\n",
       " 304  CRISPLD2   1612.0   3.207634\n",
       " 305     HTRA3   1272.0   3.104828\n",
       " 306     AEBP1   2477.0   3.394101\n",
       " \n",
       " [307 rows x 3 columns],\n",
       "          gene    count  log count\n",
       " 0       PTPRC   4859.0   3.686636\n",
       " 1      PECAM1   6544.0   3.815910\n",
       " 2         KDR   4583.0   3.661245\n",
       " 3        CDH5   4386.0   3.642168\n",
       " 4        CD19  39666.0   4.598429\n",
       " ..        ...      ...        ...\n",
       " 302       LUM    647.0   2.811575\n",
       " 303  SERPINF1  77038.0   4.886711\n",
       " 304  CRISPLD2   4851.0   3.685921\n",
       " 305     HTRA3   3539.0   3.549003\n",
       " 306     AEBP1   6293.0   3.798927\n",
       " \n",
       " [307 rows x 3 columns],\n",
       "          gene     count  log count\n",
       " 0       PTPRC    4235.0   3.626956\n",
       " 1      PECAM1    4967.0   3.696182\n",
       " 2         KDR   18355.0   4.263778\n",
       " 3        CDH5   12254.0   4.088313\n",
       " 4        CD19    3308.0   3.519697\n",
       " ..        ...       ...        ...\n",
       " 302       LUM    1668.0   3.222456\n",
       " 303  SERPINF1  558014.0   5.746646\n",
       " 304  CRISPLD2    1994.0   3.299943\n",
       " 305     HTRA3    2498.0   3.397766\n",
       " 306     AEBP1    2879.0   3.459392\n",
       " \n",
       " [307 rows x 3 columns]]"
      ]
     },
     "execution_count": 507,
     "metadata": {},
     "output_type": "execute_result"
    }
   ],
   "source": [
    "VizgenCountsLiver"
   ]
  },
  {
   "cell_type": "code",
   "execution_count": 523,
   "metadata": {},
   "outputs": [
    {
     "data": {
      "text/html": [
       "<div>\n",
       "<style scoped>\n",
       "    .dataframe tbody tr th:only-of-type {\n",
       "        vertical-align: middle;\n",
       "    }\n",
       "\n",
       "    .dataframe tbody tr th {\n",
       "        vertical-align: top;\n",
       "    }\n",
       "\n",
       "    .dataframe thead th {\n",
       "        text-align: right;\n",
       "    }\n",
       "</style>\n",
       "<table border=\"1\" class=\"dataframe\">\n",
       "  <thead>\n",
       "    <tr style=\"text-align: right;\">\n",
       "      <th></th>\n",
       "      <th>average</th>\n",
       "      <th>gene</th>\n",
       "    </tr>\n",
       "  </thead>\n",
       "  <tbody>\n",
       "    <tr>\n",
       "      <th>0</th>\n",
       "      <td>0.000000</td>\n",
       "      <td>xkr4</td>\n",
       "    </tr>\n",
       "    <tr>\n",
       "      <th>1</th>\n",
       "      <td>0.000000</td>\n",
       "      <td>gm1992</td>\n",
       "    </tr>\n",
       "    <tr>\n",
       "      <th>2</th>\n",
       "      <td>0.000000</td>\n",
       "      <td>gm37381</td>\n",
       "    </tr>\n",
       "    <tr>\n",
       "      <th>3</th>\n",
       "      <td>0.000000</td>\n",
       "      <td>rp1</td>\n",
       "    </tr>\n",
       "    <tr>\n",
       "      <th>4</th>\n",
       "      <td>71.000000</td>\n",
       "      <td>sox17</td>\n",
       "    </tr>\n",
       "    <tr>\n",
       "      <th>...</th>\n",
       "      <td>...</td>\n",
       "      <td>...</td>\n",
       "    </tr>\n",
       "    <tr>\n",
       "      <th>31048</th>\n",
       "      <td>0.000000</td>\n",
       "      <td>ac168977.1</td>\n",
       "    </tr>\n",
       "    <tr>\n",
       "      <th>31049</th>\n",
       "      <td>2777.800049</td>\n",
       "      <td>ac149090.1</td>\n",
       "    </tr>\n",
       "    <tr>\n",
       "      <th>31050</th>\n",
       "      <td>1129.400024</td>\n",
       "      <td>caaa01118383.1</td>\n",
       "    </tr>\n",
       "    <tr>\n",
       "      <th>31051</th>\n",
       "      <td>0.000000</td>\n",
       "      <td>vmn2r122</td>\n",
       "    </tr>\n",
       "    <tr>\n",
       "      <th>31052</th>\n",
       "      <td>22.000000</td>\n",
       "      <td>caaa01147332.1</td>\n",
       "    </tr>\n",
       "  </tbody>\n",
       "</table>\n",
       "<p>31053 rows × 2 columns</p>\n",
       "</div>"
      ],
      "text/plain": [
       "           average            gene\n",
       "0         0.000000            xkr4\n",
       "1         0.000000          gm1992\n",
       "2         0.000000         gm37381\n",
       "3         0.000000             rp1\n",
       "4        71.000000           sox17\n",
       "...            ...             ...\n",
       "31048     0.000000      ac168977.1\n",
       "31049  2777.800049      ac149090.1\n",
       "31050  1129.400024  caaa01118383.1\n",
       "31051     0.000000        vmn2r122\n",
       "31052    22.000000  caaa01147332.1\n",
       "\n",
       "[31053 rows x 2 columns]"
      ]
     },
     "execution_count": 523,
     "metadata": {},
     "output_type": "execute_result"
    }
   ],
   "source": [
    "df_visium_liver.index = np.arange(0,31053)\n",
    "df_visium_liver"
   ]
  },
  {
   "cell_type": "code",
   "execution_count": 525,
   "metadata": {},
   "outputs": [
    {
     "data": {
      "text/plain": [
       "31053"
      ]
     },
     "execution_count": 525,
     "metadata": {},
     "output_type": "execute_result"
    }
   ],
   "source": [
    "len(df_visium_liver)"
   ]
  },
  {
   "cell_type": "code",
   "execution_count": 526,
   "metadata": {},
   "outputs": [
    {
     "data": {
      "image/png": "[encoded data removed]",
      "text/plain": [
       "<Figure size 720x648 with 1 Axes>"
      ]
     },
     "metadata": {
      "needs_background": "light"
     },
     "output_type": "display_data"
    }
   ],
   "source": [
    "# Format data to be compared\n",
    "#List of genes to be examined\n",
    "genes = VizgenCountsLiver[0]['gene'].copy()\n",
    "gene_list = genes.to_list() #Get gene list\n",
    "\n",
    "gene_list = [x.lower() for x in gene_list] #Convert to lower case\n",
    "\n",
    "#Calculate average across Vizgen replicates\n",
    "VizgenLiver = pd.DataFrame(data=np.transpose([VizgenCountsLiver[i]['count'] \n",
    "                                          for i in range(len(VizgenCountsLiver))]),\n",
    "                                         columns=[experimentNames[x] for x in liver_ind])\n",
    "VizgenLiver['average'] = VizgenLiver.mean(axis=1)\n",
    "VizgenLiver['gene'] = VizgenCountsLiver[0]['gene'].str.lower()\n",
    "\n",
    "# Calculate the average across Visium experiments \n",
    "pseudo_bulk_counts_perGene_liver\n",
    "\n",
    "# make the gene names as lower case\n",
    "pseudo_bulk_counts_perGene_liver.index = pseudo_bulk_counts_perGene_liver.index.str.lower()\n",
    "pseudo_bulk_counts_perGene_liver\n",
    "\n",
    "df_visium_liver = pd.DataFrame(pseudo_bulk_counts_perGene_liver)\n",
    "df_visium_liver = df_visium_liver.rename(columns={0:\"average\"})\n",
    "df_visium_liver[\"gene\"] = df_visium_liver.index\n",
    "df_visium_liver.index = np.arange(0,len(df_visium_liver))\n",
    "df_visium_liver\n",
    "\n",
    "# Rename Vizgen and Visium genes that are inconsistent with MACA\n",
    "# faim3 - fcmr (y)\n",
    "# mir205hg - 4631405K08Rik (y)\n",
    "# tmem27 - Cltrn (y)\n",
    "# gpr116 - Adgrf5 (y)\n",
    "# emr1 - Adgre1 (y)\n",
    "# cybasc3 - Cyb561a3 (y)\n",
    "# ptrf - Cavin1 (y)\n",
    "# fam159b - Shisal2b (y)\n",
    "# 1700011H14RIK - ccdc198 (y)\n",
    "rename_map = {'faim3':'fcmr',\n",
    "              'mir205hg':'4631405k08rik',\n",
    "             'tmem27':'cltrn',\n",
    "             'gpr116':'adgrf5',\n",
    "             'emr1':'adgre1',\n",
    "             'cybasc3':'cyb561a3',\n",
    "             'ptrf':'cavin1',\n",
    "             'fam159b':'shisal2b',\n",
    "             '1700011h14rik':'ccdc198'}\n",
    "for i in range(VizgenLiver.shape[0]):\n",
    "    if VizgenLiver.loc[i,'gene'] in rename_map.keys():\n",
    "        VizgenLiver.loc[i,'gene'] = rename_map[VizgenLiver.loc[i,'gene']]\n",
    "\n",
    "for i in range(df_visium_liver[\"gene\"].shape[0]):\n",
    "    if df_visium_liver.loc[i,\"gene\"] in rename_map.keys():\n",
    "        df_visium_liver.loc[i,\"gene\"] = rename_map[df_visium_liver.loc[i,\"gene\"]]\n",
    "\n",
    "        \n",
    "# Get the intersection_liver with common genes\n",
    "intersection_liver = VizgenLiver[['average','gene']].merge(df_visium_liver[['average','gene']],\n",
    "                                                           on='gene')\n",
    "intersection_liver = intersection_liver.rename(columns={'average_x':'Vizgen_avg', 'average_y':'Visium_avg'})\n",
    "\n",
    "\n",
    "# Plot results\n",
    "\n",
    "# Correlation coefficient\n",
    "R2_compare_liver = np.corrcoef(intersection_liver['Vizgen_avg'], intersection_liver['Visium_avg'])\n",
    "R2_compare_liver = R2_compare_liver[1,0]\n",
    "\n",
    "# Scatter plot of averages\n",
    "plt.figure()\n",
    "plt.scatter(intersection_liver['Vizgen_avg'], intersection_liver['Visium_avg'])\n",
    "plt.xscale('log')\n",
    "plt.yscale('log')\n",
    "plt.xlabel('log count MERFISH')\n",
    "plt.ylabel('log count Visium')\n",
    "plt.title('Detected transcript abundance between MERFISH and Visium bulk RNA-seq (liver) \\n R^2 = ' \n",
    "          + str(round(R2_compare_liver,2)))\n",
    "\n",
    "plt.show()"
   ]
  },
  {
   "cell_type": "code",
   "execution_count": 527,
   "metadata": {},
   "outputs": [
    {
     "data": {
      "text/html": [
       "<div>\n",
       "<style scoped>\n",
       "    .dataframe tbody tr th:only-of-type {\n",
       "        vertical-align: middle;\n",
       "    }\n",
       "\n",
       "    .dataframe tbody tr th {\n",
       "        vertical-align: top;\n",
       "    }\n",
       "\n",
       "    .dataframe thead th {\n",
       "        text-align: right;\n",
       "    }\n",
       "</style>\n",
       "<table border=\"1\" class=\"dataframe\">\n",
       "  <thead>\n",
       "    <tr style=\"text-align: right;\">\n",
       "      <th></th>\n",
       "      <th>Msliver_VZG116_021121</th>\n",
       "      <th>Msliver_VZG116_021221</th>\n",
       "      <th>Msliver_VZG116_021621</th>\n",
       "      <th>Msliver_VZG116_021721</th>\n",
       "      <th>MsLiver_Cellbound_VZG116_V1_JH_09-18-2021</th>\n",
       "      <th>average</th>\n",
       "      <th>gene</th>\n",
       "    </tr>\n",
       "  </thead>\n",
       "  <tbody>\n",
       "    <tr>\n",
       "      <th>0</th>\n",
       "      <td>1774.0</td>\n",
       "      <td>1472.0</td>\n",
       "      <td>801.0</td>\n",
       "      <td>4859.0</td>\n",
       "      <td>4235.0</td>\n",
       "      <td>2628.2</td>\n",
       "      <td>ptprc</td>\n",
       "    </tr>\n",
       "    <tr>\n",
       "      <th>1</th>\n",
       "      <td>1403.0</td>\n",
       "      <td>2475.0</td>\n",
       "      <td>1335.0</td>\n",
       "      <td>6544.0</td>\n",
       "      <td>4967.0</td>\n",
       "      <td>3344.8</td>\n",
       "      <td>pecam1</td>\n",
       "    </tr>\n",
       "    <tr>\n",
       "      <th>2</th>\n",
       "      <td>307.0</td>\n",
       "      <td>973.0</td>\n",
       "      <td>736.0</td>\n",
       "      <td>4583.0</td>\n",
       "      <td>18355.0</td>\n",
       "      <td>4990.8</td>\n",
       "      <td>kdr</td>\n",
       "    </tr>\n",
       "    <tr>\n",
       "      <th>3</th>\n",
       "      <td>748.0</td>\n",
       "      <td>1881.0</td>\n",
       "      <td>1317.0</td>\n",
       "      <td>4386.0</td>\n",
       "      <td>12254.0</td>\n",
       "      <td>4117.2</td>\n",
       "      <td>cdh5</td>\n",
       "    </tr>\n",
       "    <tr>\n",
       "      <th>4</th>\n",
       "      <td>12327.0</td>\n",
       "      <td>14197.0</td>\n",
       "      <td>11762.0</td>\n",
       "      <td>39666.0</td>\n",
       "      <td>3308.0</td>\n",
       "      <td>16252.0</td>\n",
       "      <td>cd19</td>\n",
       "    </tr>\n",
       "    <tr>\n",
       "      <th>...</th>\n",
       "      <td>...</td>\n",
       "      <td>...</td>\n",
       "      <td>...</td>\n",
       "      <td>...</td>\n",
       "      <td>...</td>\n",
       "      <td>...</td>\n",
       "      <td>...</td>\n",
       "    </tr>\n",
       "    <tr>\n",
       "      <th>302</th>\n",
       "      <td>108.0</td>\n",
       "      <td>256.0</td>\n",
       "      <td>174.0</td>\n",
       "      <td>647.0</td>\n",
       "      <td>1668.0</td>\n",
       "      <td>570.6</td>\n",
       "      <td>lum</td>\n",
       "    </tr>\n",
       "    <tr>\n",
       "      <th>303</th>\n",
       "      <td>19371.0</td>\n",
       "      <td>39894.0</td>\n",
       "      <td>18105.0</td>\n",
       "      <td>77038.0</td>\n",
       "      <td>558014.0</td>\n",
       "      <td>142484.4</td>\n",
       "      <td>serpinf1</td>\n",
       "    </tr>\n",
       "    <tr>\n",
       "      <th>304</th>\n",
       "      <td>2354.0</td>\n",
       "      <td>2708.0</td>\n",
       "      <td>1612.0</td>\n",
       "      <td>4851.0</td>\n",
       "      <td>1994.0</td>\n",
       "      <td>2703.8</td>\n",
       "      <td>crispld2</td>\n",
       "    </tr>\n",
       "    <tr>\n",
       "      <th>305</th>\n",
       "      <td>1589.0</td>\n",
       "      <td>2007.0</td>\n",
       "      <td>1272.0</td>\n",
       "      <td>3539.0</td>\n",
       "      <td>2498.0</td>\n",
       "      <td>2181.0</td>\n",
       "      <td>htra3</td>\n",
       "    </tr>\n",
       "    <tr>\n",
       "      <th>306</th>\n",
       "      <td>2485.0</td>\n",
       "      <td>4143.0</td>\n",
       "      <td>2477.0</td>\n",
       "      <td>6293.0</td>\n",
       "      <td>2879.0</td>\n",
       "      <td>3655.4</td>\n",
       "      <td>aebp1</td>\n",
       "    </tr>\n",
       "  </tbody>\n",
       "</table>\n",
       "<p>307 rows × 7 columns</p>\n",
       "</div>"
      ],
      "text/plain": [
       "     Msliver_VZG116_021121  Msliver_VZG116_021221  Msliver_VZG116_021621  \\\n",
       "0                   1774.0                 1472.0                  801.0   \n",
       "1                   1403.0                 2475.0                 1335.0   \n",
       "2                    307.0                  973.0                  736.0   \n",
       "3                    748.0                 1881.0                 1317.0   \n",
       "4                  12327.0                14197.0                11762.0   \n",
       "..                     ...                    ...                    ...   \n",
       "302                  108.0                  256.0                  174.0   \n",
       "303                19371.0                39894.0                18105.0   \n",
       "304                 2354.0                 2708.0                 1612.0   \n",
       "305                 1589.0                 2007.0                 1272.0   \n",
       "306                 2485.0                 4143.0                 2477.0   \n",
       "\n",
       "     Msliver_VZG116_021721  MsLiver_Cellbound_VZG116_V1_JH_09-18-2021  \\\n",
       "0                   4859.0                                     4235.0   \n",
       "1                   6544.0                                     4967.0   \n",
       "2                   4583.0                                    18355.0   \n",
       "3                   4386.0                                    12254.0   \n",
       "4                  39666.0                                     3308.0   \n",
       "..                     ...                                        ...   \n",
       "302                  647.0                                     1668.0   \n",
       "303                77038.0                                   558014.0   \n",
       "304                 4851.0                                     1994.0   \n",
       "305                 3539.0                                     2498.0   \n",
       "306                 6293.0                                     2879.0   \n",
       "\n",
       "      average      gene  \n",
       "0      2628.2     ptprc  \n",
       "1      3344.8    pecam1  \n",
       "2      4990.8       kdr  \n",
       "3      4117.2      cdh5  \n",
       "4     16252.0      cd19  \n",
       "..        ...       ...  \n",
       "302     570.6       lum  \n",
       "303  142484.4  serpinf1  \n",
       "304    2703.8  crispld2  \n",
       "305    2181.0     htra3  \n",
       "306    3655.4     aebp1  \n",
       "\n",
       "[307 rows x 7 columns]"
      ]
     },
     "execution_count": 527,
     "metadata": {},
     "output_type": "execute_result"
    }
   ],
   "source": [
    "VizgenLiver"
   ]
  },
  {
   "cell_type": "code",
   "execution_count": 528,
   "metadata": {},
   "outputs": [
    {
     "data": {
      "text/html": [
       "<div>\n",
       "<style scoped>\n",
       "    .dataframe tbody tr th:only-of-type {\n",
       "        vertical-align: middle;\n",
       "    }\n",
       "\n",
       "    .dataframe tbody tr th {\n",
       "        vertical-align: top;\n",
       "    }\n",
       "\n",
       "    .dataframe thead th {\n",
       "        text-align: right;\n",
       "    }\n",
       "</style>\n",
       "<table border=\"1\" class=\"dataframe\">\n",
       "  <thead>\n",
       "    <tr style=\"text-align: right;\">\n",
       "      <th></th>\n",
       "      <th>average</th>\n",
       "      <th>gene</th>\n",
       "    </tr>\n",
       "  </thead>\n",
       "  <tbody>\n",
       "    <tr>\n",
       "      <th>0</th>\n",
       "      <td>0.000000</td>\n",
       "      <td>xkr4</td>\n",
       "    </tr>\n",
       "    <tr>\n",
       "      <th>1</th>\n",
       "      <td>0.000000</td>\n",
       "      <td>gm1992</td>\n",
       "    </tr>\n",
       "    <tr>\n",
       "      <th>2</th>\n",
       "      <td>0.000000</td>\n",
       "      <td>gm37381</td>\n",
       "    </tr>\n",
       "    <tr>\n",
       "      <th>3</th>\n",
       "      <td>0.000000</td>\n",
       "      <td>rp1</td>\n",
       "    </tr>\n",
       "    <tr>\n",
       "      <th>4</th>\n",
       "      <td>71.000000</td>\n",
       "      <td>sox17</td>\n",
       "    </tr>\n",
       "    <tr>\n",
       "      <th>...</th>\n",
       "      <td>...</td>\n",
       "      <td>...</td>\n",
       "    </tr>\n",
       "    <tr>\n",
       "      <th>31048</th>\n",
       "      <td>0.000000</td>\n",
       "      <td>ac168977.1</td>\n",
       "    </tr>\n",
       "    <tr>\n",
       "      <th>31049</th>\n",
       "      <td>2777.800049</td>\n",
       "      <td>ac149090.1</td>\n",
       "    </tr>\n",
       "    <tr>\n",
       "      <th>31050</th>\n",
       "      <td>1129.400024</td>\n",
       "      <td>caaa01118383.1</td>\n",
       "    </tr>\n",
       "    <tr>\n",
       "      <th>31051</th>\n",
       "      <td>0.000000</td>\n",
       "      <td>vmn2r122</td>\n",
       "    </tr>\n",
       "    <tr>\n",
       "      <th>31052</th>\n",
       "      <td>22.000000</td>\n",
       "      <td>caaa01147332.1</td>\n",
       "    </tr>\n",
       "  </tbody>\n",
       "</table>\n",
       "<p>31053 rows × 2 columns</p>\n",
       "</div>"
      ],
      "text/plain": [
       "           average            gene\n",
       "0         0.000000            xkr4\n",
       "1         0.000000          gm1992\n",
       "2         0.000000         gm37381\n",
       "3         0.000000             rp1\n",
       "4        71.000000           sox17\n",
       "...            ...             ...\n",
       "31048     0.000000      ac168977.1\n",
       "31049  2777.800049      ac149090.1\n",
       "31050  1129.400024  caaa01118383.1\n",
       "31051     0.000000        vmn2r122\n",
       "31052    22.000000  caaa01147332.1\n",
       "\n",
       "[31053 rows x 2 columns]"
      ]
     },
     "execution_count": 528,
     "metadata": {},
     "output_type": "execute_result"
    }
   ],
   "source": [
    "df_visium_liver"
   ]
  },
  {
   "cell_type": "markdown",
   "metadata": {},
   "source": [
    "**Note** \n",
    "\n",
    "The number of genes in Vizgen/MERFISH dataset is 307, and Visium dataset is 31053. After subsetting, we get 307 genes."
   ]
  },
  {
   "cell_type": "code",
   "execution_count": 529,
   "metadata": {
    "scrolled": true
   },
   "outputs": [
    {
     "data": {
      "text/plain": [
       "[]"
      ]
     },
     "execution_count": 529,
     "metadata": {},
     "output_type": "execute_result"
    }
   ],
   "source": [
    "list(set(VizgenLiver[\"gene\"]) - set(df_visium_liver[\"gene\"]))"
   ]
  },
  {
   "cell_type": "code",
   "execution_count": 530,
   "metadata": {},
   "outputs": [
    {
     "data": {
      "text/html": [
       "<div>\n",
       "<style scoped>\n",
       "    .dataframe tbody tr th:only-of-type {\n",
       "        vertical-align: middle;\n",
       "    }\n",
       "\n",
       "    .dataframe tbody tr th {\n",
       "        vertical-align: top;\n",
       "    }\n",
       "\n",
       "    .dataframe thead th {\n",
       "        text-align: right;\n",
       "    }\n",
       "</style>\n",
       "<table border=\"1\" class=\"dataframe\">\n",
       "  <thead>\n",
       "    <tr style=\"text-align: right;\">\n",
       "      <th></th>\n",
       "      <th>Vizgen_avg</th>\n",
       "      <th>gene</th>\n",
       "      <th>Visium_avg</th>\n",
       "    </tr>\n",
       "  </thead>\n",
       "  <tbody>\n",
       "    <tr>\n",
       "      <th>0</th>\n",
       "      <td>2628.2</td>\n",
       "      <td>ptprc</td>\n",
       "      <td>180.199997</td>\n",
       "    </tr>\n",
       "    <tr>\n",
       "      <th>1</th>\n",
       "      <td>3344.8</td>\n",
       "      <td>pecam1</td>\n",
       "      <td>480.000000</td>\n",
       "    </tr>\n",
       "    <tr>\n",
       "      <th>2</th>\n",
       "      <td>4990.8</td>\n",
       "      <td>kdr</td>\n",
       "      <td>1417.000000</td>\n",
       "    </tr>\n",
       "    <tr>\n",
       "      <th>3</th>\n",
       "      <td>4117.2</td>\n",
       "      <td>cdh5</td>\n",
       "      <td>553.200012</td>\n",
       "    </tr>\n",
       "    <tr>\n",
       "      <th>4</th>\n",
       "      <td>16252.0</td>\n",
       "      <td>cd19</td>\n",
       "      <td>28.000000</td>\n",
       "    </tr>\n",
       "    <tr>\n",
       "      <th>...</th>\n",
       "      <td>...</td>\n",
       "      <td>...</td>\n",
       "      <td>...</td>\n",
       "    </tr>\n",
       "    <tr>\n",
       "      <th>302</th>\n",
       "      <td>570.6</td>\n",
       "      <td>lum</td>\n",
       "      <td>657.200012</td>\n",
       "    </tr>\n",
       "    <tr>\n",
       "      <th>303</th>\n",
       "      <td>142484.4</td>\n",
       "      <td>serpinf1</td>\n",
       "      <td>11655.200195</td>\n",
       "    </tr>\n",
       "    <tr>\n",
       "      <th>304</th>\n",
       "      <td>2703.8</td>\n",
       "      <td>crispld2</td>\n",
       "      <td>18.600000</td>\n",
       "    </tr>\n",
       "    <tr>\n",
       "      <th>305</th>\n",
       "      <td>2181.0</td>\n",
       "      <td>htra3</td>\n",
       "      <td>78.199997</td>\n",
       "    </tr>\n",
       "    <tr>\n",
       "      <th>306</th>\n",
       "      <td>3655.4</td>\n",
       "      <td>aebp1</td>\n",
       "      <td>87.400002</td>\n",
       "    </tr>\n",
       "  </tbody>\n",
       "</table>\n",
       "<p>307 rows × 3 columns</p>\n",
       "</div>"
      ],
      "text/plain": [
       "     Vizgen_avg      gene    Visium_avg\n",
       "0        2628.2     ptprc    180.199997\n",
       "1        3344.8    pecam1    480.000000\n",
       "2        4990.8       kdr   1417.000000\n",
       "3        4117.2      cdh5    553.200012\n",
       "4       16252.0      cd19     28.000000\n",
       "..          ...       ...           ...\n",
       "302       570.6       lum    657.200012\n",
       "303    142484.4  serpinf1  11655.200195\n",
       "304      2703.8  crispld2     18.600000\n",
       "305      2181.0     htra3     78.199997\n",
       "306      3655.4     aebp1     87.400002\n",
       "\n",
       "[307 rows x 3 columns]"
      ]
     },
     "execution_count": 530,
     "metadata": {},
     "output_type": "execute_result"
    }
   ],
   "source": [
    "intersection_liver"
   ]
  },
  {
   "cell_type": "markdown",
   "metadata": {},
   "source": [
    "### Panel D: correlation between MERFISH and Visium (mouse kidney)\n"
   ]
  },
  {
   "cell_type": "code",
   "execution_count": 531,
   "metadata": {},
   "outputs": [
    {
     "data": {
      "image/png": "[encoded data removed]",
      "text/plain": [
       "<Figure size 720x648 with 1 Axes>"
      ]
     },
     "metadata": {
      "needs_background": "light"
     },
     "output_type": "display_data"
    }
   ],
   "source": [
    "# Format data to be compared\n",
    "#List of genes to be examined\n",
    "genes = VizgenCountsKidney[0]['gene'].copy()\n",
    "gene_list = genes.to_list() #Get gene list\n",
    "gene_list = [x.lower() for x in gene_list] #Convert to lower case\n",
    "\n",
    "#Calculate average across Vizgen replicates\n",
    "\n",
    "VizgenKidney = pd.DataFrame(data=np.transpose([VizgenCountsKidney[i]['count'] \n",
    "                                         for i in range(len(VizgenCountsKidney))]),\n",
    "                                        columns=[experimentNames[x] for x in kidney_ind])\n",
    "VizgenKidney['average'] = VizgenKidney.mean(axis=1)\n",
    "VizgenKidney['gene'] = VizgenCountsKidney[0]['gene'].str.lower()\n",
    "\n",
    "# Rename Vizgen genes that are inconsistent with MACA\n",
    "for i in range(VizgenKidney.shape[0]):\n",
    "    if VizgenKidney.loc[i,'gene'] in rename_map.keys():\n",
    "        VizgenKidney.loc[i,'gene'] = rename_map[VizgenKidney.loc[i,'gene']]\n",
    "\n",
    "\n",
    "# Calculate the average across Visium experiments \n",
    "pseudo_bulk_counts_perGene_kidney\n",
    "\n",
    "# make the gene names as lower case\n",
    "pseudo_bulk_counts_perGene_kidney.index = pseudo_bulk_counts_perGene_kidney.index.str.lower()\n",
    "pseudo_bulk_counts_perGene_kidney\n",
    "\n",
    "df_visium_kidney = pd.DataFrame(pseudo_bulk_counts_perGene_kidney)\n",
    "df_visium_kidney = df_visium_kidney.rename(columns={0:\"average\"})\n",
    "df_visium_kidney[\"gene\"] = df_visium_kidney.index\n",
    "df_visium_kidney\n",
    "\n",
    "\n",
    "\n",
    "# Get the intersection_kidney with common genes\n",
    "intersection_kidney = VizgenKidney[['average','gene']].merge(df_visium_kidney[['average','gene']],\n",
    "                                                           on='gene')\n",
    "intersection_kidney = intersection_kidney.rename(columns={'average_x':'Vizgen_avg', 'average_y':'Visium_avg'})\n",
    "\n",
    "\n",
    "# Plot results\n",
    "\n",
    "# Correlation coefficient\n",
    "R2_compare_kidney = np.corrcoef(intersection_kidney['Vizgen_avg'], intersection_kidney['Visium_avg'])\n",
    "R2_compare_kidney = R2_compare_kidney[1,0]\n",
    "\n",
    "# Scatter plot of averages\n",
    "plt.figure()\n",
    "plt.scatter(intersection_kidney['Vizgen_avg'], intersection_kidney['Visium_avg'])\n",
    "plt.xscale('log')\n",
    "plt.yscale('log')\n",
    "plt.xlabel('log count Vizgen')\n",
    "plt.ylabel('log count Visium')\n",
    "plt.title('Detected transcript abundance between Vizgen and Visium bulk RNA-seq (kidney) \\n R^2 = ' \n",
    "          + str(round(R2_compare_kidney,2)))\n",
    "\n",
    "plt.show()"
   ]
  },
  {
   "cell_type": "code",
   "execution_count": 295,
   "metadata": {},
   "outputs": [
    {
     "data": {
      "text/html": [
       "<div>\n",
       "<style scoped>\n",
       "    .dataframe tbody tr th:only-of-type {\n",
       "        vertical-align: middle;\n",
       "    }\n",
       "\n",
       "    .dataframe tbody tr th {\n",
       "        vertical-align: top;\n",
       "    }\n",
       "\n",
       "    .dataframe thead th {\n",
       "        text-align: right;\n",
       "    }\n",
       "</style>\n",
       "<table border=\"1\" class=\"dataframe\">\n",
       "  <thead>\n",
       "    <tr style=\"text-align: right;\">\n",
       "      <th></th>\n",
       "      <th>Vizgen_avg</th>\n",
       "      <th>gene</th>\n",
       "      <th>Visium_avg</th>\n",
       "    </tr>\n",
       "  </thead>\n",
       "  <tbody>\n",
       "    <tr>\n",
       "      <th>0</th>\n",
       "      <td>5798.5</td>\n",
       "      <td>ptprc</td>\n",
       "      <td>58.0</td>\n",
       "    </tr>\n",
       "    <tr>\n",
       "      <th>1</th>\n",
       "      <td>11753.0</td>\n",
       "      <td>pecam1</td>\n",
       "      <td>648.0</td>\n",
       "    </tr>\n",
       "    <tr>\n",
       "      <th>2</th>\n",
       "      <td>100120.5</td>\n",
       "      <td>kdr</td>\n",
       "      <td>664.0</td>\n",
       "    </tr>\n",
       "    <tr>\n",
       "      <th>3</th>\n",
       "      <td>70346.5</td>\n",
       "      <td>cdh5</td>\n",
       "      <td>338.0</td>\n",
       "    </tr>\n",
       "    <tr>\n",
       "      <th>4</th>\n",
       "      <td>8364.0</td>\n",
       "      <td>cd19</td>\n",
       "      <td>1.0</td>\n",
       "    </tr>\n",
       "    <tr>\n",
       "      <th>...</th>\n",
       "      <td>...</td>\n",
       "      <td>...</td>\n",
       "      <td>...</td>\n",
       "    </tr>\n",
       "    <tr>\n",
       "      <th>301</th>\n",
       "      <td>2729.5</td>\n",
       "      <td>lum</td>\n",
       "      <td>77.0</td>\n",
       "    </tr>\n",
       "    <tr>\n",
       "      <th>302</th>\n",
       "      <td>6802.5</td>\n",
       "      <td>serpinf1</td>\n",
       "      <td>55.0</td>\n",
       "    </tr>\n",
       "    <tr>\n",
       "      <th>303</th>\n",
       "      <td>28700.5</td>\n",
       "      <td>crispld2</td>\n",
       "      <td>296.0</td>\n",
       "    </tr>\n",
       "    <tr>\n",
       "      <th>304</th>\n",
       "      <td>8847.5</td>\n",
       "      <td>htra3</td>\n",
       "      <td>35.0</td>\n",
       "    </tr>\n",
       "    <tr>\n",
       "      <th>305</th>\n",
       "      <td>94994.5</td>\n",
       "      <td>aebp1</td>\n",
       "      <td>1547.0</td>\n",
       "    </tr>\n",
       "  </tbody>\n",
       "</table>\n",
       "<p>306 rows × 3 columns</p>\n",
       "</div>"
      ],
      "text/plain": [
       "     Vizgen_avg      gene  Visium_avg\n",
       "0        5798.5     ptprc        58.0\n",
       "1       11753.0    pecam1       648.0\n",
       "2      100120.5       kdr       664.0\n",
       "3       70346.5      cdh5       338.0\n",
       "4        8364.0      cd19         1.0\n",
       "..          ...       ...         ...\n",
       "301      2729.5       lum        77.0\n",
       "302      6802.5  serpinf1        55.0\n",
       "303     28700.5  crispld2       296.0\n",
       "304      8847.5     htra3        35.0\n",
       "305     94994.5     aebp1      1547.0\n",
       "\n",
       "[306 rows x 3 columns]"
      ]
     },
     "execution_count": 295,
     "metadata": {},
     "output_type": "execute_result"
    }
   ],
   "source": [
    "intersection_kidney"
   ]
  },
  {
   "cell_type": "markdown",
   "metadata": {},
   "source": [
    "### Panel E: histogram of ratio of counts per gene in liver (averaged across experiments)"
   ]
  },
  {
   "cell_type": "code",
   "execution_count": 532,
   "metadata": {},
   "outputs": [
    {
     "data": {
      "image/png": "[encoded data removed]",
      "text/plain": [
       "<Figure size 720x648 with 1 Axes>"
      ]
     },
     "metadata": {
      "needs_background": "light"
     },
     "output_type": "display_data"
    }
   ],
   "source": [
    "bins = np.logspace(0,5,30)\n",
    "\n",
    "plt.figure()\n",
    "plt.hist(intersection_liver['Vizgen_avg'] / intersection_liver['Visium_avg'], bins=bins)\n",
    "plt.xlabel('fold-change counts/gene')\n",
    "plt.ylabel('number of genes')\n",
    "plt.xscale('log')\n",
    "\n",
    "plt.show()"
   ]
  },
  {
   "cell_type": "markdown",
   "metadata": {},
   "source": [
    "### Panel F: histogram of counts per gene in kidney (averaged across experiments)"
   ]
  },
  {
   "cell_type": "code",
   "execution_count": 533,
   "metadata": {
    "scrolled": true
   },
   "outputs": [
    {
     "data": {
      "image/png": "[encoded data removed]",
      "text/plain": [
       "<Figure size 720x648 with 1 Axes>"
      ]
     },
     "metadata": {
      "needs_background": "light"
     },
     "output_type": "display_data"
    }
   ],
   "source": [
    "bins = np.logspace(0,5,30)\n",
    "\n",
    "plt.figure()\n",
    "plt.hist(intersection_kidney['Vizgen_avg'] / intersection_kidney['Visium_avg'], bins=bins)\n",
    "plt.xlabel('fold-change counts/gene')\n",
    "plt.ylabel('number of genes')\n",
    "plt.xscale('log')\n",
    "\n",
    "plt.show()"
   ]
  },
  {
   "cell_type": "code",
   "execution_count": 534,
   "metadata": {},
   "outputs": [
    {
     "data": {
      "text/html": [
       "<div>\n",
       "<style scoped>\n",
       "    .dataframe tbody tr th:only-of-type {\n",
       "        vertical-align: middle;\n",
       "    }\n",
       "\n",
       "    .dataframe tbody tr th {\n",
       "        vertical-align: top;\n",
       "    }\n",
       "\n",
       "    .dataframe thead th {\n",
       "        text-align: right;\n",
       "    }\n",
       "</style>\n",
       "<table border=\"1\" class=\"dataframe\">\n",
       "  <thead>\n",
       "    <tr style=\"text-align: right;\">\n",
       "      <th></th>\n",
       "      <th>Vizgen_avg</th>\n",
       "      <th>gene</th>\n",
       "      <th>Visium_avg</th>\n",
       "    </tr>\n",
       "  </thead>\n",
       "  <tbody>\n",
       "    <tr>\n",
       "      <th>0</th>\n",
       "      <td>2628.2</td>\n",
       "      <td>ptprc</td>\n",
       "      <td>180.199997</td>\n",
       "    </tr>\n",
       "    <tr>\n",
       "      <th>1</th>\n",
       "      <td>3344.8</td>\n",
       "      <td>pecam1</td>\n",
       "      <td>480.000000</td>\n",
       "    </tr>\n",
       "    <tr>\n",
       "      <th>2</th>\n",
       "      <td>4990.8</td>\n",
       "      <td>kdr</td>\n",
       "      <td>1417.000000</td>\n",
       "    </tr>\n",
       "    <tr>\n",
       "      <th>3</th>\n",
       "      <td>4117.2</td>\n",
       "      <td>cdh5</td>\n",
       "      <td>553.200012</td>\n",
       "    </tr>\n",
       "    <tr>\n",
       "      <th>4</th>\n",
       "      <td>16252.0</td>\n",
       "      <td>cd19</td>\n",
       "      <td>28.000000</td>\n",
       "    </tr>\n",
       "    <tr>\n",
       "      <th>...</th>\n",
       "      <td>...</td>\n",
       "      <td>...</td>\n",
       "      <td>...</td>\n",
       "    </tr>\n",
       "    <tr>\n",
       "      <th>302</th>\n",
       "      <td>570.6</td>\n",
       "      <td>lum</td>\n",
       "      <td>657.200012</td>\n",
       "    </tr>\n",
       "    <tr>\n",
       "      <th>303</th>\n",
       "      <td>142484.4</td>\n",
       "      <td>serpinf1</td>\n",
       "      <td>11655.200195</td>\n",
       "    </tr>\n",
       "    <tr>\n",
       "      <th>304</th>\n",
       "      <td>2703.8</td>\n",
       "      <td>crispld2</td>\n",
       "      <td>18.600000</td>\n",
       "    </tr>\n",
       "    <tr>\n",
       "      <th>305</th>\n",
       "      <td>2181.0</td>\n",
       "      <td>htra3</td>\n",
       "      <td>78.199997</td>\n",
       "    </tr>\n",
       "    <tr>\n",
       "      <th>306</th>\n",
       "      <td>3655.4</td>\n",
       "      <td>aebp1</td>\n",
       "      <td>87.400002</td>\n",
       "    </tr>\n",
       "  </tbody>\n",
       "</table>\n",
       "<p>307 rows × 3 columns</p>\n",
       "</div>"
      ],
      "text/plain": [
       "     Vizgen_avg      gene    Visium_avg\n",
       "0        2628.2     ptprc    180.199997\n",
       "1        3344.8    pecam1    480.000000\n",
       "2        4990.8       kdr   1417.000000\n",
       "3        4117.2      cdh5    553.200012\n",
       "4       16252.0      cd19     28.000000\n",
       "..          ...       ...           ...\n",
       "302       570.6       lum    657.200012\n",
       "303    142484.4  serpinf1  11655.200195\n",
       "304      2703.8  crispld2     18.600000\n",
       "305      2181.0     htra3     78.199997\n",
       "306      3655.4     aebp1     87.400002\n",
       "\n",
       "[307 rows x 3 columns]"
      ]
     },
     "execution_count": 534,
     "metadata": {},
     "output_type": "execute_result"
    }
   ],
   "source": [
    "intersection_liver"
   ]
  },
  {
   "cell_type": "code",
   "execution_count": 537,
   "metadata": {},
   "outputs": [
    {
     "data": {
      "image/png": "[encoded data removed]",
      "text/plain": [
       "<Figure size 576x288 with 2 Axes>"
      ]
     },
     "metadata": {
      "needs_background": "light"
     },
     "output_type": "display_data"
    }
   ],
   "source": [
    "set_plotting_style()\n",
    "# Plot the whole figure\n",
    "fig, axes = plt.subplots(1,2, figsize=(8,4))\n",
    "\n",
    "# # Panel A\n",
    "# i = 0\n",
    "# j = 1\n",
    "# ax = axes[0,0]\n",
    "# ax.scatter(VizgenCountsLiver[i]['count'],VizgenCountsLiver[j]['count'])\n",
    "# ax.set_xlabel('log count replicate 1')\n",
    "# ax.set_ylabel('log count replicate 2')\n",
    "# ax.set_xscale('log')\n",
    "# ax.set_yscale('log')\n",
    "# ax.set_title('Technical replicates (liver) \\n R$^2$ = ' + str(round(R2_reps_liver,2)))\n",
    "\n",
    "# # Panel B\n",
    "# i = 0\n",
    "# j = 1\n",
    "# ax = axes[0,1]\n",
    "# ax.scatter(VizgenCountsKidney[i]['count'],VizgenCountsKidney[j]['count'])\n",
    "# ax.set_xlabel('log count replicate 1')\n",
    "# ax.set_ylabel('log count replicate 2')\n",
    "# ax.set_xscale('log')\n",
    "# ax.set_yscale('log')\n",
    "# ax.set_title('Technical replicates (kidney) \\n R$^2$ = ' + str(round(R2_reps_kidney,2)))\n",
    "\n",
    "# Panel C\n",
    "ax = axes[0]\n",
    "ax.scatter(intersection_liver['Vizgen_avg'], intersection_liver['Visium_avg'])\n",
    "ax.set_xscale('log')\n",
    "ax.set_yscale('log')\n",
    "ax.set_xlim((1e2,1e7))\n",
    "ax.set_ylim((1e0,1e6))\n",
    "ax.set_xlabel('mean log count MERFISH')\n",
    "ax.set_ylabel('mean log count Visium')\n",
    "ax.set_title('Bulk RNA counts (liver) \\n R$^2$ = ' \n",
    "          + str(round(R2_compare_liver,2)))\n",
    "\n",
    "# Annotate some genes\n",
    "hmgcs2 = intersection_liver[intersection_liver['gene'] == 'hmgcs2']\n",
    "ptprb = intersection_liver[intersection_liver['gene'] == 'ptprb']\n",
    "\n",
    "ax.text(hmgcs2['Vizgen_avg'], hmgcs2['Visium_avg'], 'Hmgcs2')\n",
    "ax.text(ptprb['Vizgen_avg'], ptprb['Visium_avg'], 'Ptprb')\n",
    "\n",
    "                  \n",
    "# Panel D\n",
    "ax = axes[1]\n",
    "ax.scatter(intersection_kidney['Vizgen_avg'], intersection_kidney['Visium_avg'])\n",
    "ax.set_xscale('log')\n",
    "ax.set_yscale('log')\n",
    "ax.set_xlim((1e3,1e7))\n",
    "ax.set_ylim((1e0,1e6))\n",
    "ax.set_xlabel('mean log count MERFISH')\n",
    "ax.set_ylabel('mean log count Visium')\n",
    "ax.set_title('Bulk RNA counts (kidney) \\n R$^2$ = ' \n",
    "          + str(round(R2_compare_kidney,2)))\n",
    "\n",
    "# Annotate some genes\n",
    "gpx3 = intersection_kidney[intersection_kidney['gene'] == 'gpx3']\n",
    "kcnj1 = intersection_kidney[intersection_kidney['gene'] == 'kcnj1']\n",
    "\n",
    "ax.text(gpx3['Vizgen_avg'], gpx3['Visium_avg'], 'Gpx3')\n",
    "ax.text(kcnj1['Vizgen_avg'], kcnj1['Visium_avg'], 'Kcnj1')\n",
    "\n",
    "# # Panel E\n",
    "# ax = axes[2,0]\n",
    "# bins = np.logspace(0,5,30)\n",
    "\n",
    "# ax.hist(intersection_liver['Vizgen_avg'] / intersection_liver['MACA_avg'], bins=bins)\n",
    "# ax.set_xlabel('fold-change mean counts/gene')\n",
    "# ax.set_ylabel('number of genes')\n",
    "# ax.set_xscale('log')\n",
    "# #ax.legend()\n",
    "# #ax.set_title('counts per gene, liver')\n",
    "\n",
    "# # Panel F\n",
    "# ax = axes[2,1]\n",
    "# bins = np.logspace(0,5,30)\n",
    "\n",
    "# ax.hist(intersection_kidney['Vizgen_avg'] / intersection_kidney['MACA_avg'], bins=bins)\n",
    "# ax.set_xlabel('fold-change mean counts/gene')\n",
    "# ax.set_ylabel('number of genes')\n",
    "# ax.set_xscale('log')\n",
    "# #ax.legend()\n",
    "# #ax.set_title('counts per gene, kidney')\n",
    "\n",
    "# Label subpanels\n",
    "# axes_flat = axes.flat\n",
    "# for n, ax in enumerate(axes_flat):\n",
    "#     ax.text(-0.1, 1.1, string.ascii_uppercase[n], transform=ax.transAxes, \n",
    "#             size=20, weight='bold')\n",
    "\n",
    "fig.tight_layout()\n",
    "plt.show()"
   ]
  },
  {
   "cell_type": "code",
   "execution_count": 312,
   "metadata": {},
   "outputs": [
    {
     "name": "stdout",
     "output_type": "stream",
     "text": [
      "Figures saved.\n"
     ]
    }
   ],
   "source": [
    "# Export figures\n",
    "fig.savefig('../../figures/SIFig_bulkanalysis_MERFISH_Visium.svg', transparent=True)\n",
    "fig.savefig('../../figures/SIFig_bulkanalysis_MERFISH_Visium.png', transparent=True)\n",
    "fig.savefig('../../figures/SIFig_bulkanalysis_MERFISH_Visium.pdf', transparent=True)\n",
    "\n",
    "print('Figures saved.')"
   ]
  },
  {
   "cell_type": "code",
   "execution_count": null,
   "metadata": {},
   "outputs": [],
   "source": []
  }
 ],
 "metadata": {
  "kernelspec": {
   "display_name": "Python 3 (ipykernel)",
   "language": "python",
   "name": "python3"
  },
  "language_info": {
   "codemirror_mode": {
    "name": "ipython",
    "version": 3
   },
   "file_extension": ".py",
   "mimetype": "text/x-python",
   "name": "python",
   "nbconvert_exporter": "python",
   "pygments_lexer": "ipython3",
   "version": "3.9.5"
  }
 },
 "nbformat": 4,
 "nbformat_minor": 4
}
