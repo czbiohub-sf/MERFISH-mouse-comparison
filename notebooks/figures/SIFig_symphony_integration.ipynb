{
 "cells": [
  {
   "cell_type": "markdown",
   "metadata": {},
   "source": [
    "### Harmony and symphony integration of MACA and Vizgen results"
   ]
  },
  {
   "cell_type": "code",
   "execution_count": 3,
   "metadata": {},
   "outputs": [
    {
     "name": "stderr",
     "output_type": "stream",
     "text": [
      "Installing package into ‘/usr/local/lib/R/site-library’\n",
      "(as ‘lib’ is unspecified)\n",
      "\n",
      "also installing the dependencies ‘textshaping’, ‘ragg’, ‘ggrastr’\n",
      "\n",
      "\n",
      "Warning message in install.packages(\"symphony\"):\n",
      "“installation of package ‘textshaping’ had non-zero exit status”\n",
      "Warning message in install.packages(\"symphony\"):\n",
      "“installation of package ‘ragg’ had non-zero exit status”\n",
      "Warning message in install.packages(\"symphony\"):\n",
      "“installation of package ‘ggrastr’ had non-zero exit status”\n",
      "Warning message in install.packages(\"symphony\"):\n",
      "“installation of package ‘symphony’ had non-zero exit status”\n"
     ]
    }
   ],
   "source": [
    "# Install Symphony from CRAN\n",
    "install.packages('symphony')"
   ]
  },
  {
   "cell_type": "code",
   "execution_count": 1,
   "metadata": {},
   "outputs": [],
   "source": [
    "library('symphony')\n",
    "library('Matrix')"
   ]
  },
  {
   "cell_type": "code",
   "execution_count": 2,
   "metadata": {},
   "outputs": [],
   "source": [
    "# Read in normalized expression and metadata\n",
    "# Liver\n",
    "MACAliver_10x_data = read.csv('../../../data/SingleCellData/annotated/symphony/MACAliver_10x_data.csv', row.names = 1)\n",
    "MACAliver_10x_meta = read.csv('../../../data/SingleCellData/annotated/symphony/MACAliver_10x_metadata.csv', row.names = 1)\n",
    "mat = data.matrix(MACAliver_10x_data, rownames.force = NA)\n",
    "MACAliver_10x_data_sparse = as(mat, \"sparseMatrix\")\n",
    "\n",
    "VizgenLiver_data = read.csv('../../../data/SingleCellData/annotated/symphony/VizgenLiver_data.csv', row.names = 1)\n",
    "VizgenLiver_meta = read.csv('../../../data/SingleCellData/annotated/symphony/VizgenLiver_metadata.csv', row.names = 1)\n",
    "mat = data.matrix(VizgenLiver_data, rownames.force = NA)\n",
    "VizgenLiver_data_sparse = as(mat, \"sparseMatrix\")"
   ]
  },
  {
   "cell_type": "code",
   "execution_count": 3,
   "metadata": {},
   "outputs": [],
   "source": [
    "# Kidney\n",
    "MACAkidney_10x_data = read.csv('../../../data/SingleCellData/annotated/symphony/MACAkidney_10x_data.csv', row.names = 1)\n",
    "MACAkidney_10x_meta = read.csv('../../../data/SingleCellData/annotated/symphony/MACAkidney_10x_metadata.csv', row.names = 1)\n",
    "mat = data.matrix(MACAkidney_10x_data, rownames.force = NA)\n",
    "MACAkidney_10x_data_sparse = as(mat, \"sparseMatrix\")\n",
    "\n",
    "VizgenKidney_data = read.csv('../../../data/SingleCellData/annotated/symphony/VizgenKidney_data.csv', row.names = 1)\n",
    "VizgenKidney_meta = read.csv('../../../data/SingleCellData/annotated/symphony/VizgenKidney_metadata.csv', row.names = 1)\n",
    "mat = data.matrix(VizgenKidney_data, rownames.force = NA)\n",
    "VizgenKidney_data_sparse = as(mat, \"sparseMatrix\")"
   ]
  },
  {
   "cell_type": "code",
   "execution_count": 4,
   "metadata": {},
   "outputs": [
    {
     "data": {
      "text/html": [
       "<style>\n",
       ".list-inline {list-style: none; margin:0; padding: 0}\n",
       ".list-inline>li {display: inline-block}\n",
       ".list-inline>li:not(:last-child)::after {content: \"\\00b7\"; padding: 0 .5ex}\n",
       "</style>\n",
       "<ol class=list-inline><li>306</li><li>2321</li></ol>\n"
      ],
      "text/latex": [
       "\\begin{enumerate*}\n",
       "\\item 306\n",
       "\\item 2321\n",
       "\\end{enumerate*}\n"
      ],
      "text/markdown": [
       "1. 306\n",
       "2. 2321\n",
       "\n",
       "\n"
      ],
      "text/plain": [
       "[1]  306 2321"
      ]
     },
     "metadata": {},
     "output_type": "display_data"
    },
    {
     "data": {
      "text/html": [
       "<style>\n",
       ".list-inline {list-style: none; margin:0; padding: 0}\n",
       ".list-inline>li {display: inline-block}\n",
       ".list-inline>li:not(:last-child)::after {content: \"\\00b7\"; padding: 0 .5ex}\n",
       "</style>\n",
       "<ol class=list-inline><li>2321</li><li>15</li></ol>\n"
      ],
      "text/latex": [
       "\\begin{enumerate*}\n",
       "\\item 2321\n",
       "\\item 15\n",
       "\\end{enumerate*}\n"
      ],
      "text/markdown": [
       "1. 2321\n",
       "2. 15\n",
       "\n",
       "\n"
      ],
      "text/plain": [
       "[1] 2321   15"
      ]
     },
     "metadata": {},
     "output_type": "display_data"
    },
    {
     "data": {
      "text/html": [
       "<style>\n",
       ".list-inline {list-style: none; margin:0; padding: 0}\n",
       ".list-inline>li {display: inline-block}\n",
       ".list-inline>li:not(:last-child)::after {content: \"\\00b7\"; padding: 0 .5ex}\n",
       "</style>\n",
       "<ol class=list-inline><li>306</li><li>34217</li></ol>\n"
      ],
      "text/latex": [
       "\\begin{enumerate*}\n",
       "\\item 306\n",
       "\\item 34217\n",
       "\\end{enumerate*}\n"
      ],
      "text/markdown": [
       "1. 306\n",
       "2. 34217\n",
       "\n",
       "\n"
      ],
      "text/plain": [
       "[1]   306 34217"
      ]
     },
     "metadata": {},
     "output_type": "display_data"
    },
    {
     "data": {
      "text/html": [
       "<style>\n",
       ".list-inline {list-style: none; margin:0; padding: 0}\n",
       ".list-inline>li {display: inline-block}\n",
       ".list-inline>li:not(:last-child)::after {content: \"\\00b7\"; padding: 0 .5ex}\n",
       "</style>\n",
       "<ol class=list-inline><li>34217</li><li>12</li></ol>\n"
      ],
      "text/latex": [
       "\\begin{enumerate*}\n",
       "\\item 34217\n",
       "\\item 12\n",
       "\\end{enumerate*}\n"
      ],
      "text/markdown": [
       "1. 34217\n",
       "2. 12\n",
       "\n",
       "\n"
      ],
      "text/plain": [
       "[1] 34217    12"
      ]
     },
     "metadata": {},
     "output_type": "display_data"
    },
    {
     "data": {
      "text/html": [
       "<style>\n",
       ".list-inline {list-style: none; margin:0; padding: 0}\n",
       ".list-inline>li {display: inline-block}\n",
       ".list-inline>li:not(:last-child)::after {content: \"\\00b7\"; padding: 0 .5ex}\n",
       "</style>\n",
       "<ol class=list-inline><li>306</li><li>2330</li></ol>\n"
      ],
      "text/latex": [
       "\\begin{enumerate*}\n",
       "\\item 306\n",
       "\\item 2330\n",
       "\\end{enumerate*}\n"
      ],
      "text/markdown": [
       "1. 306\n",
       "2. 2330\n",
       "\n",
       "\n"
      ],
      "text/plain": [
       "[1]  306 2330"
      ]
     },
     "metadata": {},
     "output_type": "display_data"
    },
    {
     "data": {
      "text/html": [
       "<style>\n",
       ".list-inline {list-style: none; margin:0; padding: 0}\n",
       ".list-inline>li {display: inline-block}\n",
       ".list-inline>li:not(:last-child)::after {content: \"\\00b7\"; padding: 0 .5ex}\n",
       "</style>\n",
       "<ol class=list-inline><li>2330</li><li>13</li></ol>\n"
      ],
      "text/latex": [
       "\\begin{enumerate*}\n",
       "\\item 2330\n",
       "\\item 13\n",
       "\\end{enumerate*}\n"
      ],
      "text/markdown": [
       "1. 2330\n",
       "2. 13\n",
       "\n",
       "\n"
      ],
      "text/plain": [
       "[1] 2330   13"
      ]
     },
     "metadata": {},
     "output_type": "display_data"
    },
    {
     "data": {
      "text/html": [
       "<style>\n",
       ".list-inline {list-style: none; margin:0; padding: 0}\n",
       ".list-inline>li {display: inline-block}\n",
       ".list-inline>li:not(:last-child)::after {content: \"\\00b7\"; padding: 0 .5ex}\n",
       "</style>\n",
       "<ol class=list-inline><li>306</li><li>126496</li></ol>\n"
      ],
      "text/latex": [
       "\\begin{enumerate*}\n",
       "\\item 306\n",
       "\\item 126496\n",
       "\\end{enumerate*}\n"
      ],
      "text/markdown": [
       "1. 306\n",
       "2. 126496\n",
       "\n",
       "\n"
      ],
      "text/plain": [
       "[1]    306 126496"
      ]
     },
     "metadata": {},
     "output_type": "display_data"
    },
    {
     "data": {
      "text/html": [
       "<style>\n",
       ".list-inline {list-style: none; margin:0; padding: 0}\n",
       ".list-inline>li {display: inline-block}\n",
       ".list-inline>li:not(:last-child)::after {content: \"\\00b7\"; padding: 0 .5ex}\n",
       "</style>\n",
       "<ol class=list-inline><li>126496</li><li>12</li></ol>\n"
      ],
      "text/latex": [
       "\\begin{enumerate*}\n",
       "\\item 126496\n",
       "\\item 12\n",
       "\\end{enumerate*}\n"
      ],
      "text/markdown": [
       "1. 126496\n",
       "2. 12\n",
       "\n",
       "\n"
      ],
      "text/plain": [
       "[1] 126496     12"
      ]
     },
     "metadata": {},
     "output_type": "display_data"
    }
   ],
   "source": [
    "dim(MACAliver_10x_data)\n",
    "dim(MACAliver_10x_meta)\n",
    "dim(VizgenLiver_data)\n",
    "dim(VizgenLiver_meta)\n",
    "dim(MACAkidney_10x_data)\n",
    "dim(MACAkidney_10x_meta)\n",
    "dim(VizgenKidney_data)\n",
    "dim(VizgenKidney_meta)"
   ]
  },
  {
   "cell_type": "code",
   "execution_count": 10,
   "metadata": {},
   "outputs": [
    {
     "data": {
      "text/html": [
       "<table class=\"dataframe\">\n",
       "<caption>A data.frame: 6 × 2321</caption>\n",
       "<thead>\n",
       "\t<tr><th></th><th scope=col>AAAGCAACACCAGATT.1.43.1.0.0</th><th scope=col>ACGATACAGCCCTAAT.1.43.1.0.0</th><th scope=col>AGATCTGAGGTCATCT.1.43.1.0.0</th><th scope=col>AGGCCACGTGTGAAAT.1.43.1.0.0</th><th scope=col>ATAGACCCATGTAGTC.1.43.1.0.0</th><th scope=col>CAGCAGCAGTGCTGCC.1.43.1.0.0</th><th scope=col>CATGCCTAGCGATCCC.1.43.1.0.0</th><th scope=col>CCACGGAAGCGGATCA.1.43.1.0.0</th><th scope=col>CCTTACGGTCATCGGC.1.43.1.0.0</th><th scope=col>CGTGTCTTCGGCCGAT.1.43.1.0.0</th><th scope=col>⋯</th><th scope=col>TTTCCTCTCTGTACGA.1.50.1.0.1</th><th scope=col>TTTGCGCGTATGCTTG.1.50.1.0.1</th><th scope=col>TTTGCGCGTTATCACG.1.50.1.0.1</th><th scope=col>TTTGCGCTCCTCCTAG.1.50.1.0.1</th><th scope=col>TTTGCGCTCGTTTATC.1.50.1.0.1</th><th scope=col>TTTGGTTAGGAGTACC.1.50.1.0.1</th><th scope=col>TTTGGTTGTAGCGCAA.1.50.1.0.1</th><th scope=col>TTTGGTTGTTGCCTCT.1.50.1.0.1</th><th scope=col>TTTGTCAAGGCGCTCT.1.50.1.0.1</th><th scope=col>TTTGTCACAAATCCGT.1.50.1.0.1</th></tr>\n",
       "\t<tr><th></th><th scope=col>&lt;dbl&gt;</th><th scope=col>&lt;dbl&gt;</th><th scope=col>&lt;dbl&gt;</th><th scope=col>&lt;dbl&gt;</th><th scope=col>&lt;dbl&gt;</th><th scope=col>&lt;dbl&gt;</th><th scope=col>&lt;dbl&gt;</th><th scope=col>&lt;dbl&gt;</th><th scope=col>&lt;dbl&gt;</th><th scope=col>&lt;dbl&gt;</th><th scope=col>⋯</th><th scope=col>&lt;dbl&gt;</th><th scope=col>&lt;dbl&gt;</th><th scope=col>&lt;dbl&gt;</th><th scope=col>&lt;dbl&gt;</th><th scope=col>&lt;dbl&gt;</th><th scope=col>&lt;dbl&gt;</th><th scope=col>&lt;dbl&gt;</th><th scope=col>&lt;dbl&gt;</th><th scope=col>&lt;dbl&gt;</th><th scope=col>&lt;dbl&gt;</th></tr>\n",
       "</thead>\n",
       "<tbody>\n",
       "\t<tr><th scope=row>sox17</th><td> 3.31188850</td><td>-0.26594204</td><td>-0.26594204</td><td>-0.26594204</td><td>-0.26594204</td><td>-0.26594204</td><td>-0.26594204</td><td>-0.26594204</td><td>-0.26594204</td><td> 3.59565690</td><td>⋯</td><td>-0.26594204</td><td>-0.26594204</td><td>-0.26594204</td><td>-0.26594204</td><td>-0.26594204</td><td>-0.26594204</td><td>-0.26594204</td><td>-0.26594204</td><td>-0.26594204</td><td>-0.26594204</td></tr>\n",
       "\t<tr><th scope=row>zap70</th><td>-0.38933948</td><td>-0.38933948</td><td>-0.38933948</td><td>-0.38933948</td><td>-0.38933948</td><td>-0.38933948</td><td>-0.38933948</td><td>-0.38933948</td><td>-0.38933948</td><td>-0.38933948</td><td>⋯</td><td>-0.38933948</td><td> 2.45685630</td><td>-0.38933948</td><td>-0.38933948</td><td>-0.38933948</td><td>-0.38933948</td><td>-0.38933948</td><td>-0.38933948</td><td>-0.38933948</td><td>-0.38933948</td></tr>\n",
       "\t<tr><th scope=row>slc40a1</th><td> 0.43395120</td><td> 0.51547396</td><td> 0.52823930</td><td>-0.96398000</td><td>-0.96398000</td><td>-0.96398000</td><td>-0.96398000</td><td>-0.96398000</td><td>-0.96398000</td><td> 0.54482530</td><td>⋯</td><td>-0.96398000</td><td>-0.96398000</td><td> 1.18524000</td><td> 1.32042250</td><td> 1.13430390</td><td> 1.26725450</td><td> 1.29216800</td><td> 1.56925170</td><td> 0.78434410</td><td>-0.96398000</td></tr>\n",
       "\t<tr><th scope=row>sdpr</th><td> 2.43667720</td><td> 1.41623340</td><td> 1.99521770</td><td> 2.25665430</td><td> 2.18947050</td><td> 1.97204240</td><td> 1.98244640</td><td> 1.70924750</td><td> 2.23971130</td><td> 1.80867040</td><td>⋯</td><td>-0.51809870</td><td>-0.51809870</td><td>-0.51809870</td><td>-0.51809870</td><td>-0.51809870</td><td>-0.51809870</td><td>-0.51809870</td><td>-0.51809870</td><td>-0.51809870</td><td>-0.51809870</td></tr>\n",
       "\t<tr><th scope=row>cxcr2</th><td>-0.03553294</td><td>-0.03553294</td><td>-0.03553294</td><td>-0.03553294</td><td>-0.03553294</td><td>-0.03553294</td><td>-0.03553294</td><td>-0.03553294</td><td>-0.03553294</td><td>-0.03553294</td><td>⋯</td><td>-0.03553294</td><td>-0.03553294</td><td>-0.03553294</td><td>-0.03553294</td><td>-0.03553294</td><td>-0.03553294</td><td>-0.03553294</td><td>-0.03553294</td><td>-0.03553294</td><td>-0.03553294</td></tr>\n",
       "\t<tr><th scope=row>des</th><td>-0.14821380</td><td>-0.14821380</td><td>-0.14821380</td><td>-0.14821380</td><td>-0.14821380</td><td>-0.14821380</td><td>-0.14821380</td><td>-0.14821380</td><td>-0.14821380</td><td>-0.14821380</td><td>⋯</td><td>-0.14821380</td><td>-0.14821380</td><td>-0.14821380</td><td>-0.14821380</td><td>-0.14821380</td><td>-0.14821380</td><td>-0.14821380</td><td>-0.14821380</td><td>-0.14821380</td><td>-0.14821380</td></tr>\n",
       "</tbody>\n",
       "</table>\n"
      ],
      "text/latex": [
       "A data.frame: 6 × 2321\n",
       "\\begin{tabular}{r|lllllllllllllllllllll}\n",
       "  & AAAGCAACACCAGATT.1.43.1.0.0 & ACGATACAGCCCTAAT.1.43.1.0.0 & AGATCTGAGGTCATCT.1.43.1.0.0 & AGGCCACGTGTGAAAT.1.43.1.0.0 & ATAGACCCATGTAGTC.1.43.1.0.0 & CAGCAGCAGTGCTGCC.1.43.1.0.0 & CATGCCTAGCGATCCC.1.43.1.0.0 & CCACGGAAGCGGATCA.1.43.1.0.0 & CCTTACGGTCATCGGC.1.43.1.0.0 & CGTGTCTTCGGCCGAT.1.43.1.0.0 & ⋯ & TTTCCTCTCTGTACGA.1.50.1.0.1 & TTTGCGCGTATGCTTG.1.50.1.0.1 & TTTGCGCGTTATCACG.1.50.1.0.1 & TTTGCGCTCCTCCTAG.1.50.1.0.1 & TTTGCGCTCGTTTATC.1.50.1.0.1 & TTTGGTTAGGAGTACC.1.50.1.0.1 & TTTGGTTGTAGCGCAA.1.50.1.0.1 & TTTGGTTGTTGCCTCT.1.50.1.0.1 & TTTGTCAAGGCGCTCT.1.50.1.0.1 & TTTGTCACAAATCCGT.1.50.1.0.1\\\\\n",
       "  & <dbl> & <dbl> & <dbl> & <dbl> & <dbl> & <dbl> & <dbl> & <dbl> & <dbl> & <dbl> & ⋯ & <dbl> & <dbl> & <dbl> & <dbl> & <dbl> & <dbl> & <dbl> & <dbl> & <dbl> & <dbl>\\\\\n",
       "\\hline\n",
       "\tsox17 &  3.31188850 & -0.26594204 & -0.26594204 & -0.26594204 & -0.26594204 & -0.26594204 & -0.26594204 & -0.26594204 & -0.26594204 &  3.59565690 & ⋯ & -0.26594204 & -0.26594204 & -0.26594204 & -0.26594204 & -0.26594204 & -0.26594204 & -0.26594204 & -0.26594204 & -0.26594204 & -0.26594204\\\\\n",
       "\tzap70 & -0.38933948 & -0.38933948 & -0.38933948 & -0.38933948 & -0.38933948 & -0.38933948 & -0.38933948 & -0.38933948 & -0.38933948 & -0.38933948 & ⋯ & -0.38933948 &  2.45685630 & -0.38933948 & -0.38933948 & -0.38933948 & -0.38933948 & -0.38933948 & -0.38933948 & -0.38933948 & -0.38933948\\\\\n",
       "\tslc40a1 &  0.43395120 &  0.51547396 &  0.52823930 & -0.96398000 & -0.96398000 & -0.96398000 & -0.96398000 & -0.96398000 & -0.96398000 &  0.54482530 & ⋯ & -0.96398000 & -0.96398000 &  1.18524000 &  1.32042250 &  1.13430390 &  1.26725450 &  1.29216800 &  1.56925170 &  0.78434410 & -0.96398000\\\\\n",
       "\tsdpr &  2.43667720 &  1.41623340 &  1.99521770 &  2.25665430 &  2.18947050 &  1.97204240 &  1.98244640 &  1.70924750 &  2.23971130 &  1.80867040 & ⋯ & -0.51809870 & -0.51809870 & -0.51809870 & -0.51809870 & -0.51809870 & -0.51809870 & -0.51809870 & -0.51809870 & -0.51809870 & -0.51809870\\\\\n",
       "\tcxcr2 & -0.03553294 & -0.03553294 & -0.03553294 & -0.03553294 & -0.03553294 & -0.03553294 & -0.03553294 & -0.03553294 & -0.03553294 & -0.03553294 & ⋯ & -0.03553294 & -0.03553294 & -0.03553294 & -0.03553294 & -0.03553294 & -0.03553294 & -0.03553294 & -0.03553294 & -0.03553294 & -0.03553294\\\\\n",
       "\tdes & -0.14821380 & -0.14821380 & -0.14821380 & -0.14821380 & -0.14821380 & -0.14821380 & -0.14821380 & -0.14821380 & -0.14821380 & -0.14821380 & ⋯ & -0.14821380 & -0.14821380 & -0.14821380 & -0.14821380 & -0.14821380 & -0.14821380 & -0.14821380 & -0.14821380 & -0.14821380 & -0.14821380\\\\\n",
       "\\end{tabular}\n"
      ],
      "text/markdown": [
       "\n",
       "A data.frame: 6 × 2321\n",
       "\n",
       "| <!--/--> | AAAGCAACACCAGATT.1.43.1.0.0 &lt;dbl&gt; | ACGATACAGCCCTAAT.1.43.1.0.0 &lt;dbl&gt; | AGATCTGAGGTCATCT.1.43.1.0.0 &lt;dbl&gt; | AGGCCACGTGTGAAAT.1.43.1.0.0 &lt;dbl&gt; | ATAGACCCATGTAGTC.1.43.1.0.0 &lt;dbl&gt; | CAGCAGCAGTGCTGCC.1.43.1.0.0 &lt;dbl&gt; | CATGCCTAGCGATCCC.1.43.1.0.0 &lt;dbl&gt; | CCACGGAAGCGGATCA.1.43.1.0.0 &lt;dbl&gt; | CCTTACGGTCATCGGC.1.43.1.0.0 &lt;dbl&gt; | CGTGTCTTCGGCCGAT.1.43.1.0.0 &lt;dbl&gt; | ⋯ ⋯ | TTTCCTCTCTGTACGA.1.50.1.0.1 &lt;dbl&gt; | TTTGCGCGTATGCTTG.1.50.1.0.1 &lt;dbl&gt; | TTTGCGCGTTATCACG.1.50.1.0.1 &lt;dbl&gt; | TTTGCGCTCCTCCTAG.1.50.1.0.1 &lt;dbl&gt; | TTTGCGCTCGTTTATC.1.50.1.0.1 &lt;dbl&gt; | TTTGGTTAGGAGTACC.1.50.1.0.1 &lt;dbl&gt; | TTTGGTTGTAGCGCAA.1.50.1.0.1 &lt;dbl&gt; | TTTGGTTGTTGCCTCT.1.50.1.0.1 &lt;dbl&gt; | TTTGTCAAGGCGCTCT.1.50.1.0.1 &lt;dbl&gt; | TTTGTCACAAATCCGT.1.50.1.0.1 &lt;dbl&gt; |\n",
       "|---|---|---|---|---|---|---|---|---|---|---|---|---|---|---|---|---|---|---|---|---|---|\n",
       "| sox17 |  3.31188850 | -0.26594204 | -0.26594204 | -0.26594204 | -0.26594204 | -0.26594204 | -0.26594204 | -0.26594204 | -0.26594204 |  3.59565690 | ⋯ | -0.26594204 | -0.26594204 | -0.26594204 | -0.26594204 | -0.26594204 | -0.26594204 | -0.26594204 | -0.26594204 | -0.26594204 | -0.26594204 |\n",
       "| zap70 | -0.38933948 | -0.38933948 | -0.38933948 | -0.38933948 | -0.38933948 | -0.38933948 | -0.38933948 | -0.38933948 | -0.38933948 | -0.38933948 | ⋯ | -0.38933948 |  2.45685630 | -0.38933948 | -0.38933948 | -0.38933948 | -0.38933948 | -0.38933948 | -0.38933948 | -0.38933948 | -0.38933948 |\n",
       "| slc40a1 |  0.43395120 |  0.51547396 |  0.52823930 | -0.96398000 | -0.96398000 | -0.96398000 | -0.96398000 | -0.96398000 | -0.96398000 |  0.54482530 | ⋯ | -0.96398000 | -0.96398000 |  1.18524000 |  1.32042250 |  1.13430390 |  1.26725450 |  1.29216800 |  1.56925170 |  0.78434410 | -0.96398000 |\n",
       "| sdpr |  2.43667720 |  1.41623340 |  1.99521770 |  2.25665430 |  2.18947050 |  1.97204240 |  1.98244640 |  1.70924750 |  2.23971130 |  1.80867040 | ⋯ | -0.51809870 | -0.51809870 | -0.51809870 | -0.51809870 | -0.51809870 | -0.51809870 | -0.51809870 | -0.51809870 | -0.51809870 | -0.51809870 |\n",
       "| cxcr2 | -0.03553294 | -0.03553294 | -0.03553294 | -0.03553294 | -0.03553294 | -0.03553294 | -0.03553294 | -0.03553294 | -0.03553294 | -0.03553294 | ⋯ | -0.03553294 | -0.03553294 | -0.03553294 | -0.03553294 | -0.03553294 | -0.03553294 | -0.03553294 | -0.03553294 | -0.03553294 | -0.03553294 |\n",
       "| des | -0.14821380 | -0.14821380 | -0.14821380 | -0.14821380 | -0.14821380 | -0.14821380 | -0.14821380 | -0.14821380 | -0.14821380 | -0.14821380 | ⋯ | -0.14821380 | -0.14821380 | -0.14821380 | -0.14821380 | -0.14821380 | -0.14821380 | -0.14821380 | -0.14821380 | -0.14821380 | -0.14821380 |\n",
       "\n"
      ],
      "text/plain": [
       "        AAAGCAACACCAGATT.1.43.1.0.0 ACGATACAGCCCTAAT.1.43.1.0.0\n",
       "sox17    3.31188850                 -0.26594204                \n",
       "zap70   -0.38933948                 -0.38933948                \n",
       "slc40a1  0.43395120                  0.51547396                \n",
       "sdpr     2.43667720                  1.41623340                \n",
       "cxcr2   -0.03553294                 -0.03553294                \n",
       "des     -0.14821380                 -0.14821380                \n",
       "        AGATCTGAGGTCATCT.1.43.1.0.0 AGGCCACGTGTGAAAT.1.43.1.0.0\n",
       "sox17   -0.26594204                 -0.26594204                \n",
       "zap70   -0.38933948                 -0.38933948                \n",
       "slc40a1  0.52823930                 -0.96398000                \n",
       "sdpr     1.99521770                  2.25665430                \n",
       "cxcr2   -0.03553294                 -0.03553294                \n",
       "des     -0.14821380                 -0.14821380                \n",
       "        ATAGACCCATGTAGTC.1.43.1.0.0 CAGCAGCAGTGCTGCC.1.43.1.0.0\n",
       "sox17   -0.26594204                 -0.26594204                \n",
       "zap70   -0.38933948                 -0.38933948                \n",
       "slc40a1 -0.96398000                 -0.96398000                \n",
       "sdpr     2.18947050                  1.97204240                \n",
       "cxcr2   -0.03553294                 -0.03553294                \n",
       "des     -0.14821380                 -0.14821380                \n",
       "        CATGCCTAGCGATCCC.1.43.1.0.0 CCACGGAAGCGGATCA.1.43.1.0.0\n",
       "sox17   -0.26594204                 -0.26594204                \n",
       "zap70   -0.38933948                 -0.38933948                \n",
       "slc40a1 -0.96398000                 -0.96398000                \n",
       "sdpr     1.98244640                  1.70924750                \n",
       "cxcr2   -0.03553294                 -0.03553294                \n",
       "des     -0.14821380                 -0.14821380                \n",
       "        CCTTACGGTCATCGGC.1.43.1.0.0 CGTGTCTTCGGCCGAT.1.43.1.0.0 ⋯\n",
       "sox17   -0.26594204                  3.59565690                 ⋯\n",
       "zap70   -0.38933948                 -0.38933948                 ⋯\n",
       "slc40a1 -0.96398000                  0.54482530                 ⋯\n",
       "sdpr     2.23971130                  1.80867040                 ⋯\n",
       "cxcr2   -0.03553294                 -0.03553294                 ⋯\n",
       "des     -0.14821380                 -0.14821380                 ⋯\n",
       "        TTTCCTCTCTGTACGA.1.50.1.0.1 TTTGCGCGTATGCTTG.1.50.1.0.1\n",
       "sox17   -0.26594204                 -0.26594204                \n",
       "zap70   -0.38933948                  2.45685630                \n",
       "slc40a1 -0.96398000                 -0.96398000                \n",
       "sdpr    -0.51809870                 -0.51809870                \n",
       "cxcr2   -0.03553294                 -0.03553294                \n",
       "des     -0.14821380                 -0.14821380                \n",
       "        TTTGCGCGTTATCACG.1.50.1.0.1 TTTGCGCTCCTCCTAG.1.50.1.0.1\n",
       "sox17   -0.26594204                 -0.26594204                \n",
       "zap70   -0.38933948                 -0.38933948                \n",
       "slc40a1  1.18524000                  1.32042250                \n",
       "sdpr    -0.51809870                 -0.51809870                \n",
       "cxcr2   -0.03553294                 -0.03553294                \n",
       "des     -0.14821380                 -0.14821380                \n",
       "        TTTGCGCTCGTTTATC.1.50.1.0.1 TTTGGTTAGGAGTACC.1.50.1.0.1\n",
       "sox17   -0.26594204                 -0.26594204                \n",
       "zap70   -0.38933948                 -0.38933948                \n",
       "slc40a1  1.13430390                  1.26725450                \n",
       "sdpr    -0.51809870                 -0.51809870                \n",
       "cxcr2   -0.03553294                 -0.03553294                \n",
       "des     -0.14821380                 -0.14821380                \n",
       "        TTTGGTTGTAGCGCAA.1.50.1.0.1 TTTGGTTGTTGCCTCT.1.50.1.0.1\n",
       "sox17   -0.26594204                 -0.26594204                \n",
       "zap70   -0.38933948                 -0.38933948                \n",
       "slc40a1  1.29216800                  1.56925170                \n",
       "sdpr    -0.51809870                 -0.51809870                \n",
       "cxcr2   -0.03553294                 -0.03553294                \n",
       "des     -0.14821380                 -0.14821380                \n",
       "        TTTGTCAAGGCGCTCT.1.50.1.0.1 TTTGTCACAAATCCGT.1.50.1.0.1\n",
       "sox17   -0.26594204                 -0.26594204                \n",
       "zap70   -0.38933948                 -0.38933948                \n",
       "slc40a1  0.78434410                 -0.96398000                \n",
       "sdpr    -0.51809870                 -0.51809870                \n",
       "cxcr2   -0.03553294                 -0.03553294                \n",
       "des     -0.14821380                 -0.14821380                "
      ]
     },
     "metadata": {},
     "output_type": "display_data"
    }
   ],
   "source": [
    "head(MACAliver_10x_data)"
   ]
  },
  {
   "cell_type": "code",
   "execution_count": 11,
   "metadata": {},
   "outputs": [
    {
     "data": {
      "text/html": [
       "<table class=\"dataframe\">\n",
       "<caption>A data.frame: 6 × 15</caption>\n",
       "<thead>\n",
       "\t<tr><th></th><th scope=col>age</th><th scope=col>cell</th><th scope=col>cell_ontology_class</th><th scope=col>cell_ontology_id</th><th scope=col>free_annotation</th><th scope=col>method</th><th scope=col>mouse.id</th><th scope=col>n_genes</th><th scope=col>sex</th><th scope=col>subtissue</th><th scope=col>tissue</th><th scope=col>tissue_free_annotation</th><th scope=col>integrated_manually_annotated</th><th scope=col>batch</th><th scope=col>n_counts</th></tr>\n",
       "\t<tr><th></th><th scope=col>&lt;chr&gt;</th><th scope=col>&lt;chr&gt;</th><th scope=col>&lt;chr&gt;</th><th scope=col>&lt;chr&gt;</th><th scope=col>&lt;chr&gt;</th><th scope=col>&lt;chr&gt;</th><th scope=col>&lt;chr&gt;</th><th scope=col>&lt;dbl&gt;</th><th scope=col>&lt;chr&gt;</th><th scope=col>&lt;chr&gt;</th><th scope=col>&lt;chr&gt;</th><th scope=col>&lt;chr&gt;</th><th scope=col>&lt;chr&gt;</th><th scope=col>&lt;int&gt;</th><th scope=col>&lt;dbl&gt;</th></tr>\n",
       "</thead>\n",
       "<tbody>\n",
       "\t<tr><th scope=row>AAAGCAACACCAGATT-1-43-1-0-0</th><td>1m</td><td>10X_P5_0_AAAGCAACACCAGATT</td><td>periportal endothelial cell</td><td>NA</td><td>endothelial cell of hepatic sinusoid</td><td>droplet</td><td>1-M-62</td><td>1825</td><td>male</td><td>HEPATOCYTES</td><td>Liver</td><td>Liver</td><td>periportal endothelial cell</td><td>0</td><td>305</td></tr>\n",
       "\t<tr><th scope=row>ACGATACAGCCCTAAT-1-43-1-0-0</th><td>1m</td><td>10X_P5_0_ACGATACAGCCCTAAT</td><td>other endothelial cell     </td><td>NA</td><td>endothelial cell of hepatic sinusoid</td><td>droplet</td><td>1-M-62</td><td>1570</td><td>male</td><td>HEPATOCYTES</td><td>Liver</td><td>Liver</td><td>other endothelial cell     </td><td>0</td><td>247</td></tr>\n",
       "\t<tr><th scope=row>AGATCTGAGGTCATCT-1-43-1-0-0</th><td>1m</td><td>10X_P5_0_AGATCTGAGGTCATCT</td><td>other endothelial cell     </td><td>NA</td><td>endothelial cell of hepatic sinusoid</td><td>droplet</td><td>1-M-62</td><td>1856</td><td>male</td><td>HEPATOCYTES</td><td>Liver</td><td>Liver</td><td>other endothelial cell     </td><td>0</td><td>239</td></tr>\n",
       "\t<tr><th scope=row>AGGCCACGTGTGAAAT-1-43-1-0-0</th><td>1m</td><td>10X_P5_0_AGGCCACGTGTGAAAT</td><td>other endothelial cell     </td><td>NA</td><td>endothelial cell of hepatic sinusoid</td><td>droplet</td><td>1-M-62</td><td>1779</td><td>male</td><td>HEPATOCYTES</td><td>Liver</td><td>Liver</td><td>other endothelial cell     </td><td>0</td><td>240</td></tr>\n",
       "\t<tr><th scope=row>ATAGACCCATGTAGTC-1-43-1-0-0</th><td>1m</td><td>10X_P5_0_ATAGACCCATGTAGTC</td><td>other endothelial cell     </td><td>NA</td><td>endothelial cell of hepatic sinusoid</td><td>droplet</td><td>1-M-62</td><td>1631</td><td>male</td><td>HEPATOCYTES</td><td>Liver</td><td>Liver</td><td>other endothelial cell     </td><td>0</td><td>164</td></tr>\n",
       "\t<tr><th scope=row>CAGCAGCAGTGCTGCC-1-43-1-0-0</th><td>1m</td><td>10X_P5_0_CAGCAGCAGTGCTGCC</td><td>periportal endothelial cell</td><td>NA</td><td>endothelial cell of hepatic sinusoid</td><td>droplet</td><td>1-M-62</td><td>1836</td><td>male</td><td>HEPATOCYTES</td><td>Liver</td><td>Liver</td><td>periportal endothelial cell</td><td>0</td><td>250</td></tr>\n",
       "</tbody>\n",
       "</table>\n"
      ],
      "text/latex": [
       "A data.frame: 6 × 15\n",
       "\\begin{tabular}{r|lllllllllllllll}\n",
       "  & age & cell & cell\\_ontology\\_class & cell\\_ontology\\_id & free\\_annotation & method & mouse.id & n\\_genes & sex & subtissue & tissue & tissue\\_free\\_annotation & integrated\\_manually\\_annotated & batch & n\\_counts\\\\\n",
       "  & <chr> & <chr> & <chr> & <chr> & <chr> & <chr> & <chr> & <dbl> & <chr> & <chr> & <chr> & <chr> & <chr> & <int> & <dbl>\\\\\n",
       "\\hline\n",
       "\tAAAGCAACACCAGATT-1-43-1-0-0 & 1m & 10X\\_P5\\_0\\_AAAGCAACACCAGATT & periportal endothelial cell & NA & endothelial cell of hepatic sinusoid & droplet & 1-M-62 & 1825 & male & HEPATOCYTES & Liver & Liver & periportal endothelial cell & 0 & 305\\\\\n",
       "\tACGATACAGCCCTAAT-1-43-1-0-0 & 1m & 10X\\_P5\\_0\\_ACGATACAGCCCTAAT & other endothelial cell      & NA & endothelial cell of hepatic sinusoid & droplet & 1-M-62 & 1570 & male & HEPATOCYTES & Liver & Liver & other endothelial cell      & 0 & 247\\\\\n",
       "\tAGATCTGAGGTCATCT-1-43-1-0-0 & 1m & 10X\\_P5\\_0\\_AGATCTGAGGTCATCT & other endothelial cell      & NA & endothelial cell of hepatic sinusoid & droplet & 1-M-62 & 1856 & male & HEPATOCYTES & Liver & Liver & other endothelial cell      & 0 & 239\\\\\n",
       "\tAGGCCACGTGTGAAAT-1-43-1-0-0 & 1m & 10X\\_P5\\_0\\_AGGCCACGTGTGAAAT & other endothelial cell      & NA & endothelial cell of hepatic sinusoid & droplet & 1-M-62 & 1779 & male & HEPATOCYTES & Liver & Liver & other endothelial cell      & 0 & 240\\\\\n",
       "\tATAGACCCATGTAGTC-1-43-1-0-0 & 1m & 10X\\_P5\\_0\\_ATAGACCCATGTAGTC & other endothelial cell      & NA & endothelial cell of hepatic sinusoid & droplet & 1-M-62 & 1631 & male & HEPATOCYTES & Liver & Liver & other endothelial cell      & 0 & 164\\\\\n",
       "\tCAGCAGCAGTGCTGCC-1-43-1-0-0 & 1m & 10X\\_P5\\_0\\_CAGCAGCAGTGCTGCC & periportal endothelial cell & NA & endothelial cell of hepatic sinusoid & droplet & 1-M-62 & 1836 & male & HEPATOCYTES & Liver & Liver & periportal endothelial cell & 0 & 250\\\\\n",
       "\\end{tabular}\n"
      ],
      "text/markdown": [
       "\n",
       "A data.frame: 6 × 15\n",
       "\n",
       "| <!--/--> | age &lt;chr&gt; | cell &lt;chr&gt; | cell_ontology_class &lt;chr&gt; | cell_ontology_id &lt;chr&gt; | free_annotation &lt;chr&gt; | method &lt;chr&gt; | mouse.id &lt;chr&gt; | n_genes &lt;dbl&gt; | sex &lt;chr&gt; | subtissue &lt;chr&gt; | tissue &lt;chr&gt; | tissue_free_annotation &lt;chr&gt; | integrated_manually_annotated &lt;chr&gt; | batch &lt;int&gt; | n_counts &lt;dbl&gt; |\n",
       "|---|---|---|---|---|---|---|---|---|---|---|---|---|---|---|---|\n",
       "| AAAGCAACACCAGATT-1-43-1-0-0 | 1m | 10X_P5_0_AAAGCAACACCAGATT | periportal endothelial cell | NA | endothelial cell of hepatic sinusoid | droplet | 1-M-62 | 1825 | male | HEPATOCYTES | Liver | Liver | periportal endothelial cell | 0 | 305 |\n",
       "| ACGATACAGCCCTAAT-1-43-1-0-0 | 1m | 10X_P5_0_ACGATACAGCCCTAAT | other endothelial cell      | NA | endothelial cell of hepatic sinusoid | droplet | 1-M-62 | 1570 | male | HEPATOCYTES | Liver | Liver | other endothelial cell      | 0 | 247 |\n",
       "| AGATCTGAGGTCATCT-1-43-1-0-0 | 1m | 10X_P5_0_AGATCTGAGGTCATCT | other endothelial cell      | NA | endothelial cell of hepatic sinusoid | droplet | 1-M-62 | 1856 | male | HEPATOCYTES | Liver | Liver | other endothelial cell      | 0 | 239 |\n",
       "| AGGCCACGTGTGAAAT-1-43-1-0-0 | 1m | 10X_P5_0_AGGCCACGTGTGAAAT | other endothelial cell      | NA | endothelial cell of hepatic sinusoid | droplet | 1-M-62 | 1779 | male | HEPATOCYTES | Liver | Liver | other endothelial cell      | 0 | 240 |\n",
       "| ATAGACCCATGTAGTC-1-43-1-0-0 | 1m | 10X_P5_0_ATAGACCCATGTAGTC | other endothelial cell      | NA | endothelial cell of hepatic sinusoid | droplet | 1-M-62 | 1631 | male | HEPATOCYTES | Liver | Liver | other endothelial cell      | 0 | 164 |\n",
       "| CAGCAGCAGTGCTGCC-1-43-1-0-0 | 1m | 10X_P5_0_CAGCAGCAGTGCTGCC | periportal endothelial cell | NA | endothelial cell of hepatic sinusoid | droplet | 1-M-62 | 1836 | male | HEPATOCYTES | Liver | Liver | periportal endothelial cell | 0 | 250 |\n",
       "\n"
      ],
      "text/plain": [
       "                            age cell                     \n",
       "AAAGCAACACCAGATT-1-43-1-0-0 1m  10X_P5_0_AAAGCAACACCAGATT\n",
       "ACGATACAGCCCTAAT-1-43-1-0-0 1m  10X_P5_0_ACGATACAGCCCTAAT\n",
       "AGATCTGAGGTCATCT-1-43-1-0-0 1m  10X_P5_0_AGATCTGAGGTCATCT\n",
       "AGGCCACGTGTGAAAT-1-43-1-0-0 1m  10X_P5_0_AGGCCACGTGTGAAAT\n",
       "ATAGACCCATGTAGTC-1-43-1-0-0 1m  10X_P5_0_ATAGACCCATGTAGTC\n",
       "CAGCAGCAGTGCTGCC-1-43-1-0-0 1m  10X_P5_0_CAGCAGCAGTGCTGCC\n",
       "                            cell_ontology_class         cell_ontology_id\n",
       "AAAGCAACACCAGATT-1-43-1-0-0 periportal endothelial cell NA              \n",
       "ACGATACAGCCCTAAT-1-43-1-0-0 other endothelial cell      NA              \n",
       "AGATCTGAGGTCATCT-1-43-1-0-0 other endothelial cell      NA              \n",
       "AGGCCACGTGTGAAAT-1-43-1-0-0 other endothelial cell      NA              \n",
       "ATAGACCCATGTAGTC-1-43-1-0-0 other endothelial cell      NA              \n",
       "CAGCAGCAGTGCTGCC-1-43-1-0-0 periportal endothelial cell NA              \n",
       "                            free_annotation                      method \n",
       "AAAGCAACACCAGATT-1-43-1-0-0 endothelial cell of hepatic sinusoid droplet\n",
       "ACGATACAGCCCTAAT-1-43-1-0-0 endothelial cell of hepatic sinusoid droplet\n",
       "AGATCTGAGGTCATCT-1-43-1-0-0 endothelial cell of hepatic sinusoid droplet\n",
       "AGGCCACGTGTGAAAT-1-43-1-0-0 endothelial cell of hepatic sinusoid droplet\n",
       "ATAGACCCATGTAGTC-1-43-1-0-0 endothelial cell of hepatic sinusoid droplet\n",
       "CAGCAGCAGTGCTGCC-1-43-1-0-0 endothelial cell of hepatic sinusoid droplet\n",
       "                            mouse.id n_genes sex  subtissue   tissue\n",
       "AAAGCAACACCAGATT-1-43-1-0-0 1-M-62   1825    male HEPATOCYTES Liver \n",
       "ACGATACAGCCCTAAT-1-43-1-0-0 1-M-62   1570    male HEPATOCYTES Liver \n",
       "AGATCTGAGGTCATCT-1-43-1-0-0 1-M-62   1856    male HEPATOCYTES Liver \n",
       "AGGCCACGTGTGAAAT-1-43-1-0-0 1-M-62   1779    male HEPATOCYTES Liver \n",
       "ATAGACCCATGTAGTC-1-43-1-0-0 1-M-62   1631    male HEPATOCYTES Liver \n",
       "CAGCAGCAGTGCTGCC-1-43-1-0-0 1-M-62   1836    male HEPATOCYTES Liver \n",
       "                            tissue_free_annotation\n",
       "AAAGCAACACCAGATT-1-43-1-0-0 Liver                 \n",
       "ACGATACAGCCCTAAT-1-43-1-0-0 Liver                 \n",
       "AGATCTGAGGTCATCT-1-43-1-0-0 Liver                 \n",
       "AGGCCACGTGTGAAAT-1-43-1-0-0 Liver                 \n",
       "ATAGACCCATGTAGTC-1-43-1-0-0 Liver                 \n",
       "CAGCAGCAGTGCTGCC-1-43-1-0-0 Liver                 \n",
       "                            integrated_manually_annotated batch n_counts\n",
       "AAAGCAACACCAGATT-1-43-1-0-0 periportal endothelial cell   0     305     \n",
       "ACGATACAGCCCTAAT-1-43-1-0-0 other endothelial cell        0     247     \n",
       "AGATCTGAGGTCATCT-1-43-1-0-0 other endothelial cell        0     239     \n",
       "AGGCCACGTGTGAAAT-1-43-1-0-0 other endothelial cell        0     240     \n",
       "ATAGACCCATGTAGTC-1-43-1-0-0 other endothelial cell        0     164     \n",
       "CAGCAGCAGTGCTGCC-1-43-1-0-0 periportal endothelial cell   0     250     "
      ]
     },
     "metadata": {},
     "output_type": "display_data"
    }
   ],
   "source": [
    "head(MACAliver_10x_meta)"
   ]
  },
  {
   "cell_type": "code",
   "execution_count": 18,
   "metadata": {},
   "outputs": [
    {
     "data": {
      "text/html": [
       "<table class=\"dataframe\">\n",
       "<caption>A data.frame: 6 × 12</caption>\n",
       "<thead>\n",
       "\t<tr><th></th><th scope=col>fov</th><th scope=col>volume</th><th scope=col>center_x</th><th scope=col>center_y</th><th scope=col>min_x</th><th scope=col>min_y</th><th scope=col>max_x</th><th scope=col>max_y</th><th scope=col>barcodeCount</th><th scope=col>average_DAPI_score</th><th scope=col>area</th><th scope=col>n_counts</th></tr>\n",
       "\t<tr><th></th><th scope=col>&lt;lgl&gt;</th><th scope=col>&lt;dbl&gt;</th><th scope=col>&lt;dbl&gt;</th><th scope=col>&lt;dbl&gt;</th><th scope=col>&lt;dbl&gt;</th><th scope=col>&lt;dbl&gt;</th><th scope=col>&lt;dbl&gt;</th><th scope=col>&lt;dbl&gt;</th><th scope=col>&lt;dbl&gt;</th><th scope=col>&lt;dbl&gt;</th><th scope=col>&lt;dbl&gt;</th><th scope=col>&lt;dbl&gt;</th></tr>\n",
       "</thead>\n",
       "<tbody>\n",
       "\t<tr><th scope=row>79</th><td>NA</td><td>131801.93</td><td>38385.09</td><td>3830.896</td><td>38299.39</td><td>3755.754</td><td>38462.26</td><td>3893.000</td><td>289</td><td>5292.381</td><td>1581.5974</td><td>289</td></tr>\n",
       "\t<tr><th scope=row>83</th><td>NA</td><td>108851.00</td><td>38509.65</td><td>3875.023</td><td>38435.17</td><td>3811.620</td><td>38580.03</td><td>3943.565</td><td>391</td><td>4565.679</td><td>1306.1908</td><td>391</td></tr>\n",
       "\t<tr><th scope=row>86</th><td>NA</td><td> 89270.96</td><td>38290.84</td><td>3909.487</td><td>38228.40</td><td>3857.574</td><td>38350.23</td><td>3960.977</td><td>181</td><td>5144.508</td><td>1071.2341</td><td>181</td></tr>\n",
       "\t<tr><th scope=row>90</th><td>NA</td><td> 72754.46</td><td>38476.28</td><td>3968.779</td><td>38412.24</td><td>3921.449</td><td>38546.76</td><td>4011.138</td><td>210</td><td>3167.123</td><td> 873.0393</td><td>210</td></tr>\n",
       "\t<tr><th scope=row>91</th><td>NA</td><td> 32280.01</td><td>38219.94</td><td>4006.663</td><td>38181.32</td><td>3953.888</td><td>38292.47</td><td>4034.002</td><td>108</td><td>2934.365</td><td> 387.3538</td><td>108</td></tr>\n",
       "\t<tr><th scope=row>94</th><td>NA</td><td> 91316.90</td><td>38309.67</td><td>4051.108</td><td>38230.36</td><td>4001.698</td><td>38379.52</td><td>4101.096</td><td> 98</td><td>4202.537</td><td>1095.7849</td><td> 98</td></tr>\n",
       "</tbody>\n",
       "</table>\n"
      ],
      "text/latex": [
       "A data.frame: 6 × 12\n",
       "\\begin{tabular}{r|llllllllllll}\n",
       "  & fov & volume & center\\_x & center\\_y & min\\_x & min\\_y & max\\_x & max\\_y & barcodeCount & average\\_DAPI\\_score & area & n\\_counts\\\\\n",
       "  & <lgl> & <dbl> & <dbl> & <dbl> & <dbl> & <dbl> & <dbl> & <dbl> & <dbl> & <dbl> & <dbl> & <dbl>\\\\\n",
       "\\hline\n",
       "\t79 & NA & 131801.93 & 38385.09 & 3830.896 & 38299.39 & 3755.754 & 38462.26 & 3893.000 & 289 & 5292.381 & 1581.5974 & 289\\\\\n",
       "\t83 & NA & 108851.00 & 38509.65 & 3875.023 & 38435.17 & 3811.620 & 38580.03 & 3943.565 & 391 & 4565.679 & 1306.1908 & 391\\\\\n",
       "\t86 & NA &  89270.96 & 38290.84 & 3909.487 & 38228.40 & 3857.574 & 38350.23 & 3960.977 & 181 & 5144.508 & 1071.2341 & 181\\\\\n",
       "\t90 & NA &  72754.46 & 38476.28 & 3968.779 & 38412.24 & 3921.449 & 38546.76 & 4011.138 & 210 & 3167.123 &  873.0393 & 210\\\\\n",
       "\t91 & NA &  32280.01 & 38219.94 & 4006.663 & 38181.32 & 3953.888 & 38292.47 & 4034.002 & 108 & 2934.365 &  387.3538 & 108\\\\\n",
       "\t94 & NA &  91316.90 & 38309.67 & 4051.108 & 38230.36 & 4001.698 & 38379.52 & 4101.096 &  98 & 4202.537 & 1095.7849 &  98\\\\\n",
       "\\end{tabular}\n"
      ],
      "text/markdown": [
       "\n",
       "A data.frame: 6 × 12\n",
       "\n",
       "| <!--/--> | fov &lt;lgl&gt; | volume &lt;dbl&gt; | center_x &lt;dbl&gt; | center_y &lt;dbl&gt; | min_x &lt;dbl&gt; | min_y &lt;dbl&gt; | max_x &lt;dbl&gt; | max_y &lt;dbl&gt; | barcodeCount &lt;dbl&gt; | average_DAPI_score &lt;dbl&gt; | area &lt;dbl&gt; | n_counts &lt;dbl&gt; |\n",
       "|---|---|---|---|---|---|---|---|---|---|---|---|---|\n",
       "| 79 | NA | 131801.93 | 38385.09 | 3830.896 | 38299.39 | 3755.754 | 38462.26 | 3893.000 | 289 | 5292.381 | 1581.5974 | 289 |\n",
       "| 83 | NA | 108851.00 | 38509.65 | 3875.023 | 38435.17 | 3811.620 | 38580.03 | 3943.565 | 391 | 4565.679 | 1306.1908 | 391 |\n",
       "| 86 | NA |  89270.96 | 38290.84 | 3909.487 | 38228.40 | 3857.574 | 38350.23 | 3960.977 | 181 | 5144.508 | 1071.2341 | 181 |\n",
       "| 90 | NA |  72754.46 | 38476.28 | 3968.779 | 38412.24 | 3921.449 | 38546.76 | 4011.138 | 210 | 3167.123 |  873.0393 | 210 |\n",
       "| 91 | NA |  32280.01 | 38219.94 | 4006.663 | 38181.32 | 3953.888 | 38292.47 | 4034.002 | 108 | 2934.365 |  387.3538 | 108 |\n",
       "| 94 | NA |  91316.90 | 38309.67 | 4051.108 | 38230.36 | 4001.698 | 38379.52 | 4101.096 |  98 | 4202.537 | 1095.7849 |  98 |\n",
       "\n"
      ],
      "text/plain": [
       "   fov volume    center_x center_y min_x    min_y    max_x    max_y   \n",
       "79 NA  131801.93 38385.09 3830.896 38299.39 3755.754 38462.26 3893.000\n",
       "83 NA  108851.00 38509.65 3875.023 38435.17 3811.620 38580.03 3943.565\n",
       "86 NA   89270.96 38290.84 3909.487 38228.40 3857.574 38350.23 3960.977\n",
       "90 NA   72754.46 38476.28 3968.779 38412.24 3921.449 38546.76 4011.138\n",
       "91 NA   32280.01 38219.94 4006.663 38181.32 3953.888 38292.47 4034.002\n",
       "94 NA   91316.90 38309.67 4051.108 38230.36 4001.698 38379.52 4101.096\n",
       "   barcodeCount average_DAPI_score area      n_counts\n",
       "79 289          5292.381           1581.5974 289     \n",
       "83 391          4565.679           1306.1908 391     \n",
       "86 181          5144.508           1071.2341 181     \n",
       "90 210          3167.123            873.0393 210     \n",
       "91 108          2934.365            387.3538 108     \n",
       "94  98          4202.537           1095.7849  98     "
      ]
     },
     "metadata": {},
     "output_type": "display_data"
    }
   ],
   "source": [
    "head(VizgenLiver_meta)"
   ]
  },
  {
   "cell_type": "code",
   "execution_count": 11,
   "metadata": {},
   "outputs": [
    {
     "name": "stderr",
     "output_type": "stream",
     "text": [
      "Finding variable genes using vst method\n",
      "\n",
      "Warning message in hvf.info$variance.expected[not.const] <- 10^fit$fitted:\n",
      "“number of items to replace is not a multiple of replacement length”\n",
      "Total 100 genes for downstream steps\n",
      "\n",
      "Scaling and PCA\n",
      "\n",
      "WARNING: soft_kmeans fxn uses cosine distance only\n",
      "\n",
      "Computing reference compression terms\n",
      "\n",
      "Finding variable genes using vst method\n",
      "\n",
      "Warning message in hvf.info$variance.expected[not.const] <- 10^fit$fitted:\n",
      "“number of items to replace is not a multiple of replacement length”\n",
      "Total 100 genes for downstream steps\n",
      "\n",
      "Scaling and PCA\n",
      "\n",
      "WARNING: soft_kmeans fxn uses cosine distance only\n",
      "\n",
      "Computing reference compression terms\n",
      "\n"
     ]
    }
   ],
   "source": [
    "# Build reference from scratch\n",
    "# Liver\n",
    "set.seed(0)\n",
    "reference = symphony::buildReference(\n",
    "    MACAliver_10x_data_sparse,\n",
    "    MACAliver_10x_meta,\n",
    "    #vars = c('donor'),         # variables to integrate over\n",
    "    K = 100,                   # number of Harmony clusters\n",
    "    verbose = TRUE,            # verbose output\n",
    "    do_umap = FALSE,            # can set to FALSE if want to run umap separately later\n",
    "    do_normalize = FALSE,      # set to TRUE if input counts are not normalized yet\n",
    "    vargenes_method = 'vst',   # method for variable gene selection ('vst' or 'mvp')\n",
    "    #vargenes_groups = 'donor', # metadata column specifying groups for variable gene selection \n",
    "    topn = 100,               # number of variable genes to choose per group\n",
    "    d = 20,                    # number of PCs\n",
    "    save_uwot_path = '../../../data/SingleCellData/annotated/symphony/testing_uwot_model_2'\n",
    ")\n",
    "\n",
    "reference$normalization_method = 'log(CP10k+1)' # optionally save normalization method in custom slot\n",
    "\n",
    "# Save reference (modify with your desired output path)\n",
    "saveRDS(reference, '../../../data/SingleCellData/annotated/symphony/MACAliver_10x_reference.rds')\n",
    "\n",
    "# Kidney\n",
    "set.seed(0)\n",
    "reference = symphony::buildReference(\n",
    "    MACAkidney_10x_data_sparse,\n",
    "    MACAkidney_10x_meta,\n",
    "    #vars = c('donor'),         # variables to integrate over\n",
    "    K = 100,                   # number of Harmony clusters\n",
    "    verbose = TRUE,            # verbose output\n",
    "    do_umap = FALSE,            # can set to FALSE if want to run umap separately later\n",
    "    do_normalize = FALSE,      # set to TRUE if input counts are not normalized yet\n",
    "    vargenes_method = 'vst',   # method for variable gene selection ('vst' or 'mvp')\n",
    "    #vargenes_groups = 'donor', # metadata column specifying groups for variable gene selection \n",
    "    topn = 100,               # number of variable genes to choose per group\n",
    "    d = 20,                    # number of PCs\n",
    "    save_uwot_path = '../../../data/SingleCellData/annotated/symphony/testing_uwot_model_2'\n",
    ")\n",
    "\n",
    "reference$normalization_method = 'log(CP10k+1)' # optionally save normalization method in custom slot\n",
    "\n",
    "# Save reference (modify with your desired output path)\n",
    "saveRDS(reference, '../../../data/SingleCellData/annotated/symphony/MACAkidney_10x_reference.rds')"
   ]
  },
  {
   "cell_type": "code",
   "execution_count": 12,
   "metadata": {},
   "outputs": [],
   "source": [
    "# Read in Symphony reference to map to\n",
    "referenceLiver = readRDS('../../../data/SingleCellData/annotated/symphony/MACAliver_10x_reference.rds')\n",
    "referenceKidney = readRDS('../../../data/SingleCellData/annotated/symphony/MACAkidney_10x_reference.rds')"
   ]
  },
  {
   "cell_type": "code",
   "execution_count": 13,
   "metadata": {},
   "outputs": [
    {
     "name": "stderr",
     "output_type": "stream",
     "text": [
      "Scaling and synchronizing query gene expression\n",
      "\n",
      "Found 100 out of 100 reference variable genes in query dataset\n",
      "\n",
      "Project query cells using reference gene loadings\n",
      "\n",
      "Clustering query cells to reference centroids\n",
      "\n",
      "Correcting query batch effects\n",
      "\n",
      "All done!\n",
      "\n",
      "Scaling and synchronizing query gene expression\n",
      "\n",
      "Found 100 out of 100 reference variable genes in query dataset\n",
      "\n",
      "Project query cells using reference gene loadings\n",
      "\n",
      "Clustering query cells to reference centroids\n",
      "\n",
      "Correcting query batch effects\n",
      "\n",
      "All done!\n",
      "\n"
     ]
    }
   ],
   "source": [
    "# Map query\n",
    "queryLiver = mapQuery(VizgenLiver_data_sparse,             # query gene expression (genes x cells)\n",
    "                 VizgenLiver_meta,        # query metadata (cells x attributes)\n",
    "                 referenceLiver,             # Symphony reference object\n",
    "                 do_normalize = FALSE,  # perform log(CP10k+1) normalization on query\n",
    "                 do_umap = FALSE)        # project query cells into reference UMAP\n",
    "\n",
    "queryKidney = mapQuery(VizgenKidney_data_sparse,             # query gene expression (genes x cells)\n",
    "                 VizgenKidney_meta,        # query metadata (cells x attributes)\n",
    "                 referenceKidney,             # Symphony reference object\n",
    "                 do_normalize = FALSE,  # perform log(CP10k+1) normalization on query\n",
    "                 do_umap = FALSE)        # project query cells into reference UMAP"
   ]
  },
  {
   "cell_type": "code",
   "execution_count": 14,
   "metadata": {},
   "outputs": [],
   "source": [
    "# Predict cell types\n",
    "queryLiver = knnPredict(queryLiver, referenceLiver, referenceLiver$meta_data$cell_ontology_class, k = 5)\n",
    "queryKidney = knnPredict(queryKidney, referenceKidney, referenceKidney$meta_data$cell_ontology_class, k = 5)"
   ]
  },
  {
   "cell_type": "code",
   "execution_count": 56,
   "metadata": {},
   "outputs": [
    {
     "data": {
      "text/html": [
       "<table class=\"dataframe\">\n",
       "<caption>A data.frame: 6 × 14</caption>\n",
       "<thead>\n",
       "\t<tr><th></th><th scope=col>fov</th><th scope=col>volume</th><th scope=col>center_x</th><th scope=col>center_y</th><th scope=col>min_x</th><th scope=col>min_y</th><th scope=col>max_x</th><th scope=col>max_y</th><th scope=col>barcodeCount</th><th scope=col>average_DAPI_score</th><th scope=col>area</th><th scope=col>n_counts</th><th scope=col>cell_type_pred_knn</th><th scope=col>cell_type_pred_knn_prob</th></tr>\n",
       "\t<tr><th></th><th scope=col>&lt;lgl&gt;</th><th scope=col>&lt;dbl&gt;</th><th scope=col>&lt;dbl&gt;</th><th scope=col>&lt;dbl&gt;</th><th scope=col>&lt;dbl&gt;</th><th scope=col>&lt;dbl&gt;</th><th scope=col>&lt;dbl&gt;</th><th scope=col>&lt;dbl&gt;</th><th scope=col>&lt;dbl&gt;</th><th scope=col>&lt;dbl&gt;</th><th scope=col>&lt;dbl&gt;</th><th scope=col>&lt;dbl&gt;</th><th scope=col>&lt;fct&gt;</th><th scope=col>&lt;dbl&gt;</th></tr>\n",
       "</thead>\n",
       "<tbody>\n",
       "\t<tr><th scope=row>79</th><td>NA</td><td>131801.93</td><td>38385.09</td><td>3830.896</td><td>38299.39</td><td>3755.754</td><td>38462.26</td><td>3893.000</td><td>289</td><td>5292.381</td><td>1581.5974</td><td>289</td><td>other hepatocyte      </td><td>0.6</td></tr>\n",
       "\t<tr><th scope=row>83</th><td>NA</td><td>108851.00</td><td>38509.65</td><td>3875.023</td><td>38435.17</td><td>3811.620</td><td>38580.03</td><td>3943.565</td><td>391</td><td>4565.679</td><td>1306.1908</td><td>391</td><td>pericentral hepatocyte</td><td>0.6</td></tr>\n",
       "\t<tr><th scope=row>86</th><td>NA</td><td> 89270.96</td><td>38290.84</td><td>3909.487</td><td>38228.40</td><td>3857.574</td><td>38350.23</td><td>3960.977</td><td>181</td><td>5144.508</td><td>1071.2341</td><td>181</td><td>pericentral hepatocyte</td><td>0.8</td></tr>\n",
       "\t<tr><th scope=row>90</th><td>NA</td><td> 72754.46</td><td>38476.28</td><td>3968.779</td><td>38412.24</td><td>3921.449</td><td>38546.76</td><td>4011.138</td><td>210</td><td>3167.123</td><td> 873.0393</td><td>210</td><td>myeloid leukocyte     </td><td>0.8</td></tr>\n",
       "\t<tr><th scope=row>91</th><td>NA</td><td> 32280.01</td><td>38219.94</td><td>4006.663</td><td>38181.32</td><td>3953.888</td><td>38292.47</td><td>4034.002</td><td>108</td><td>2934.365</td><td> 387.3538</td><td>108</td><td>NK cell               </td><td>1.0</td></tr>\n",
       "\t<tr><th scope=row>94</th><td>NA</td><td> 91316.90</td><td>38309.67</td><td>4051.108</td><td>38230.36</td><td>4001.698</td><td>38379.52</td><td>4101.096</td><td> 98</td><td>4202.537</td><td>1095.7849</td><td> 98</td><td>hepatic stellate cell </td><td>1.0</td></tr>\n",
       "</tbody>\n",
       "</table>\n"
      ],
      "text/latex": [
       "A data.frame: 6 × 14\n",
       "\\begin{tabular}{r|llllllllllllll}\n",
       "  & fov & volume & center\\_x & center\\_y & min\\_x & min\\_y & max\\_x & max\\_y & barcodeCount & average\\_DAPI\\_score & area & n\\_counts & cell\\_type\\_pred\\_knn & cell\\_type\\_pred\\_knn\\_prob\\\\\n",
       "  & <lgl> & <dbl> & <dbl> & <dbl> & <dbl> & <dbl> & <dbl> & <dbl> & <dbl> & <dbl> & <dbl> & <dbl> & <fct> & <dbl>\\\\\n",
       "\\hline\n",
       "\t79 & NA & 131801.93 & 38385.09 & 3830.896 & 38299.39 & 3755.754 & 38462.26 & 3893.000 & 289 & 5292.381 & 1581.5974 & 289 & other hepatocyte       & 0.6\\\\\n",
       "\t83 & NA & 108851.00 & 38509.65 & 3875.023 & 38435.17 & 3811.620 & 38580.03 & 3943.565 & 391 & 4565.679 & 1306.1908 & 391 & pericentral hepatocyte & 0.6\\\\\n",
       "\t86 & NA &  89270.96 & 38290.84 & 3909.487 & 38228.40 & 3857.574 & 38350.23 & 3960.977 & 181 & 5144.508 & 1071.2341 & 181 & pericentral hepatocyte & 0.8\\\\\n",
       "\t90 & NA &  72754.46 & 38476.28 & 3968.779 & 38412.24 & 3921.449 & 38546.76 & 4011.138 & 210 & 3167.123 &  873.0393 & 210 & myeloid leukocyte      & 0.8\\\\\n",
       "\t91 & NA &  32280.01 & 38219.94 & 4006.663 & 38181.32 & 3953.888 & 38292.47 & 4034.002 & 108 & 2934.365 &  387.3538 & 108 & NK cell                & 1.0\\\\\n",
       "\t94 & NA &  91316.90 & 38309.67 & 4051.108 & 38230.36 & 4001.698 & 38379.52 & 4101.096 &  98 & 4202.537 & 1095.7849 &  98 & hepatic stellate cell  & 1.0\\\\\n",
       "\\end{tabular}\n"
      ],
      "text/markdown": [
       "\n",
       "A data.frame: 6 × 14\n",
       "\n",
       "| <!--/--> | fov &lt;lgl&gt; | volume &lt;dbl&gt; | center_x &lt;dbl&gt; | center_y &lt;dbl&gt; | min_x &lt;dbl&gt; | min_y &lt;dbl&gt; | max_x &lt;dbl&gt; | max_y &lt;dbl&gt; | barcodeCount &lt;dbl&gt; | average_DAPI_score &lt;dbl&gt; | area &lt;dbl&gt; | n_counts &lt;dbl&gt; | cell_type_pred_knn &lt;fct&gt; | cell_type_pred_knn_prob &lt;dbl&gt; |\n",
       "|---|---|---|---|---|---|---|---|---|---|---|---|---|---|---|\n",
       "| 79 | NA | 131801.93 | 38385.09 | 3830.896 | 38299.39 | 3755.754 | 38462.26 | 3893.000 | 289 | 5292.381 | 1581.5974 | 289 | other hepatocyte       | 0.6 |\n",
       "| 83 | NA | 108851.00 | 38509.65 | 3875.023 | 38435.17 | 3811.620 | 38580.03 | 3943.565 | 391 | 4565.679 | 1306.1908 | 391 | pericentral hepatocyte | 0.6 |\n",
       "| 86 | NA |  89270.96 | 38290.84 | 3909.487 | 38228.40 | 3857.574 | 38350.23 | 3960.977 | 181 | 5144.508 | 1071.2341 | 181 | pericentral hepatocyte | 0.8 |\n",
       "| 90 | NA |  72754.46 | 38476.28 | 3968.779 | 38412.24 | 3921.449 | 38546.76 | 4011.138 | 210 | 3167.123 |  873.0393 | 210 | myeloid leukocyte      | 0.8 |\n",
       "| 91 | NA |  32280.01 | 38219.94 | 4006.663 | 38181.32 | 3953.888 | 38292.47 | 4034.002 | 108 | 2934.365 |  387.3538 | 108 | NK cell                | 1.0 |\n",
       "| 94 | NA |  91316.90 | 38309.67 | 4051.108 | 38230.36 | 4001.698 | 38379.52 | 4101.096 |  98 | 4202.537 | 1095.7849 |  98 | hepatic stellate cell  | 1.0 |\n",
       "\n"
      ],
      "text/plain": [
       "   fov volume    center_x center_y min_x    min_y    max_x    max_y   \n",
       "79 NA  131801.93 38385.09 3830.896 38299.39 3755.754 38462.26 3893.000\n",
       "83 NA  108851.00 38509.65 3875.023 38435.17 3811.620 38580.03 3943.565\n",
       "86 NA   89270.96 38290.84 3909.487 38228.40 3857.574 38350.23 3960.977\n",
       "90 NA   72754.46 38476.28 3968.779 38412.24 3921.449 38546.76 4011.138\n",
       "91 NA   32280.01 38219.94 4006.663 38181.32 3953.888 38292.47 4034.002\n",
       "94 NA   91316.90 38309.67 4051.108 38230.36 4001.698 38379.52 4101.096\n",
       "   barcodeCount average_DAPI_score area      n_counts cell_type_pred_knn    \n",
       "79 289          5292.381           1581.5974 289      other hepatocyte      \n",
       "83 391          4565.679           1306.1908 391      pericentral hepatocyte\n",
       "86 181          5144.508           1071.2341 181      pericentral hepatocyte\n",
       "90 210          3167.123            873.0393 210      myeloid leukocyte     \n",
       "91 108          2934.365            387.3538 108      NK cell               \n",
       "94  98          4202.537           1095.7849  98      hepatic stellate cell \n",
       "   cell_type_pred_knn_prob\n",
       "79 0.6                    \n",
       "83 0.6                    \n",
       "86 0.8                    \n",
       "90 0.8                    \n",
       "91 1.0                    \n",
       "94 1.0                    "
      ]
     },
     "metadata": {},
     "output_type": "display_data"
    }
   ],
   "source": [
    "# Examine predictions\n",
    "head(query$meta_data)"
   ]
  },
  {
   "cell_type": "code",
   "execution_count": 19,
   "metadata": {},
   "outputs": [],
   "source": [
    "# Save predictions as .csv\n",
    "write.csv(queryLiver$meta_data,'../../../results/symphony/VizgenLiver_symphony_query.csv', row.names = TRUE)\n",
    "write.csv(queryKidney$meta_data,'../../../results/symphony/VizgenKidney_symphony_query.csv', row.names = TRUE)"
   ]
  }
 ],
 "metadata": {
  "kernelspec": {
   "display_name": "R",
   "language": "R",
   "name": "ir"
  },
  "language_info": {
   "codemirror_mode": "r",
   "file_extension": ".r",
   "mimetype": "text/x-r-source",
   "name": "R",
   "pygments_lexer": "r",
   "version": "3.6.3"
  }
 },
 "nbformat": 4,
 "nbformat_minor": 2
}
